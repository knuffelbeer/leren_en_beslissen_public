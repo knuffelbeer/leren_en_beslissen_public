{
  "cells": [
    {
      "cell_type": "markdown",
      "metadata": {
        "id": "view-in-github",
        "colab_type": "text"
      },
      "source": [
        "<a href=\"https://colab.research.google.com/github/knuffelbeer/leren_en_beslissen_public/blob/main/company_emissions_preprocessing_Neural_Network.ipynb\" target=\"_parent\"><img src=\"https://colab.research.google.com/assets/colab-badge.svg\" alt=\"Open In Colab\"/></a>"
      ]
    },
    {
      "cell_type": "code",
      "execution_count": 23,
      "metadata": {
        "id": "acm5tgNHjLjX"
      },
      "outputs": [],
      "source": [
        "# Import packages\n",
        "import pandas as pd\n",
        "import numpy as np \n",
        "import matplotlib.pyplot as plt\n",
        "import sklearn\n",
        "from sklearn.neural_network import MLPRegressor\n",
        "\n",
        "# Import modules\n",
        "\n",
        "from sklearn.model_selection import train_test_split\n",
        "from sklearn.metrics import mean_squared_error\n",
        "from math import sqrt\n",
        "from sklearn.metrics import r2_score\n",
        "\n",
        "#open dataset\n",
        "df0 = pd.read_csv(\"20220105_company_emissions_data.csv\", sep=',')\n",
        "\n",
        "#drop irrelevant columns from dataset\n",
        "df1 = df0.drop(columns=['WorkforceDataPoints.AsianMinoritiesEmployeesPercent',\n",
        "                       'WorkforceDataPoints.AsianMinoritiesManagersPercent', \n",
        "                      'WorkforceDataPoints.AverageEmployeeLengthOfService',\n",
        "                      'WorkforceDataPoints.AverageTrainingHours', \n",
        "                      'WorkforceDataPoints.BbbeeLevel', \n",
        "                      'WorkforceDataPoints.BlackOrAfricanAmericanMinoritiesEmployeesPercent',\n",
        "                      'WorkforceDataPoints.BlackOrAfricanAmericanMinoritiesManagersPercent',\n",
        "                      'WorkforceDataPoints.ContractorAccidents',\n",
        "                      'WorkforceDataPoints.ContractorFatalities',\n",
        "                      'WorkforceDataPoints.ContractorLostWorkingDays',\n",
        "                      'WorkforceDataPoints.DayCareServices',\n",
        "                      'WorkforceDataPoints.DiversityAndOpportunityControversies',\n",
        "                      'WorkforceDataPoints.EmployeeAccidents',\n",
        "                      'WorkforceDataPoints.EmployeeFatalities',\n",
        "                      'WorkforceDataPoints.EmployeeHealthAndSafetyTrainingHours',\n",
        "                      'WorkforceDataPoints.EmployeeLostWorkingDays',\n",
        "                      'WorkforceDataPoints.EmployeeResourceGroups',\n",
        "                      'WorkforceDataPoints.EmployeeSatisfaction',\n",
        "                      'WorkforceDataPoints.EmployeesHealthAndSafetyControversies',\n",
        "                      'WorkforceDataPoints.EmployeesHealthAndSafetyOhsas18001',\n",
        "                      'WorkforceDataPoints.EmployeesHealthAndSafetyTeam',\n",
        "                      'WorkforceDataPoints.EmployeesWithDisabilities',\n",
        "                      'WorkforceDataPoints.FlexibleWorkingHours',\n",
        "                      'WorkforceDataPoints.GenderPayGapPercentage',\n",
        "                      'WorkforceDataPoints.HealthAndSafetyTraining',\n",
        "                      'WorkforceDataPoints.HispanicOrLatinoMinoritiesEmployeesPercent',\n",
        "                      'WorkforceDataPoints.HispanicOrLatinoMinoritiesManagersPercent',\n",
        "                      'WorkforceDataPoints.HivAidsProgram',\n",
        "                      'WorkforceDataPoints.HrcCorporateEqualityIndex',\n",
        "                      'WorkforceDataPoints.HsmsCertifiedPercentage',\n",
        "                      'WorkforceDataPoints.InternalPromotion',\n",
        "                      'WorkforceDataPoints.InvoluntaryTurnoverOfEmployees',\n",
        "                      'WorkforceDataPoints.LostTimeInjuryRateContractors',\n",
        "                      'WorkforceDataPoints.LostTimeInjuryRateEmployees',\n",
        "                      'WorkforceDataPoints.LostTimeInjuryRateTotal',\n",
        "                      'WorkforceDataPoints.LostWorkingDays',\n",
        "                      'WorkforceDataPoints.ManagementDepartures',\n",
        "                      'WorkforceDataPoints.ManagementTraining',\n",
        "                      'WorkforceDataPoints.MinoritiesEmployeesPercent',\n",
        "                      'WorkforceDataPoints.MinoritiesManagersPercent',\n",
        "                      'WorkforceDataPoints.MinoritiesSalaryGapPercent',\n",
        "                      'WorkforceDataPoints.NewWomenEmployees',\n",
        "                      'WorkforceDataPoints.NumberOfEmployeesFromCsrReporting',\n",
        "                      'WorkforceDataPoints.OccupationalDiseases',\n",
        "                      'WorkforceDataPoints.OtherMinoritiesEmployeesPercent',\n",
        "                      'WorkforceDataPoints.OtherMinoritiesManagersPercent',\n",
        "                      'WorkforceDataPoints.PolicyCareerDevelopment',\n",
        "                      'WorkforceDataPoints.PolicyDiversityAndOpportunity',\n",
        "                      'WorkforceDataPoints.PolicyEmployeeHealthAndSafety',\n",
        "                      'WorkforceDataPoints.PolicySkillsTraining',\n",
        "                      'WorkforceDataPoints.PolicySupplyChainHealthAndSafety',\n",
        "                      'WorkforceDataPoints.RecentDiversityOpportunityControversies',\n",
        "                      'WorkforceDataPoints.RecentEmployeeHealthAndSafetyControversies',\n",
        "                      'WorkforceDataPoints.RecentWagesWorkingConditionControversies',\n",
        "                      'WorkforceDataPoints.SalariesAndWagesFromCsrReporting',\n",
        "                      'WorkforceDataPoints.Strikes',\n",
        "                      'WorkforceDataPoints.SupplierESGTraining',\n",
        "                      'WorkforceDataPoints.SupplyChainHealthAndSafetyImprovements',\n",
        "                      'WorkforceDataPoints.SupplyChainHealthAndSafetyTraining',\n",
        "                      'WorkforceDataPoints.TargetsDiversityAndOpportunity',\n",
        "                      'WorkforceDataPoints.TotalInjuryRateContractors',\n",
        "                      'WorkforceDataPoints.TotalInjuryRateEmployees',\n",
        "                      'WorkforceDataPoints.TotalInjuryRateTotal',\n",
        "                      'WorkforceDataPoints.TradeUnionRepresentation',\n",
        "                      'WorkforceDataPoints.TrainingCostsTotal',\n",
        "                      'WorkforceDataPoints.TrainingHoursTotal',\n",
        "                      'WorkforceDataPoints.TurnoverOfEmployees',\n",
        "                      'WorkforceDataPoints.VoluntaryTurnoverOfEmployees',\n",
        "                      'WorkforceDataPoints.WagesWorkingConditionControversiesCount',\n",
        "                      'WorkforceDataPoints.WhiteMinoritiesEmployeesPercent',\n",
        "                      'WorkforceDataPoints.WhiteMinoritiesManagersPercent',\n",
        "                      'WorkforceDataPoints.WomenEmployees',\n",
        "                      'WorkforceDataPoints.WomenManagers',\n",
        "                      'WorkforceIndicators.AnnouncedLayOffsToTotalEmployees',\n",
        "                      'WorkforceIndicators.HealthAndSafetyPolicy',\n",
        "                      'WorkforceIndicators.InjuriesToMillionHours',\n",
        "                      'WorkforceIndicators.LostDaysToTotalDays',\n",
        "                      'WorkforceIndicators.NetEmploymentCreation',\n",
        "                      'WorkforceIndicators.SalaryGap',\n",
        "                      'WorkforceIndicators.TrainingAndDevelopmentPolicy',\n",
        "                      'WorkforceIndicators.TrainingCostsPerEmployee',\n",
        "                      'WorkforceIndicators.WagesWorkingConditionControversies'],\n",
        "                      axis=1)\n",
        "    \n",
        "#number of columns in (cleaned) dataset\n",
        "len(df0.columns)\n",
        "len(df1.columns)\n",
        "\n",
        "df1.sort_values(['GTAP sector'], ascending=[True], inplace=True)\n",
        "\n",
        "#save cleaned dataset as new file\n",
        "df = df1.to_csv('company_emissions_cleaned.csv', index=True)"
      ]
    },
    {
      "cell_type": "code",
      "execution_count": 24,
      "metadata": {
        "id": "rUyc4ROjeCWe"
      },
      "outputs": [],
      "source": [
        "#drop rows with no data in either the year or target collumn\n",
        "df2 = df1.dropna(subset=['EmissionDataPoints.CO2EquivalentsEmissionDirectScope1', 'StatementDetails.FinancialPeriodFiscalYear'])"
      ]
    },
    {
      "cell_type": "code",
      "execution_count": 25,
      "metadata": {
        "id": "IERHheE8eCWh"
      },
      "outputs": [],
      "source": [
        "df2_names_clean = df2.rename(columns={\"GTAP sector\": \"sector\", \"EmissionDataPoints.CO2EquivalentsEmissionDirectScope1\" :\n",
        "                                     \"target\", \"StatementDetails.FinancialPeriodFiscalYear\" : \"year\"})\n",
        "\n",
        "# replace sector with int for use in neural network and remove rows with null sector\n",
        "df_sector_int = df2_names_clean\n",
        "for i in range(len(df2_names_clean['sector'].value_counts())):\n",
        "    df_sector_int = df_sector_int.replace(df2_names_clean['sector'].value_counts().index[i], i + 1)\n",
        "\n",
        "df_sector_int = df_sector_int[df_sector_int.sector != 1]\n",
        "\n",
        "\n",
        "#creates small datasets for testing\n",
        "df = df_sector_int[[\"year\", \"target\", \"sector\"]]\n",
        "\n",
        "# Dit doet het niet echt\n",
        "#df_small.describe().transpose()\n",
        "#target_column = ['target'] \n",
        "#features = list(set(list(df_small.columns))-set(target_column))\n",
        "#df_small[features] = df_small[features]/df_small[features].max()\n",
        "#df_small.describe().transpose()\n",
        "\n",
        "#splits data into training test data by year \n",
        "training_data = df[df.year != 2020]\n",
        "test_data = df[df.year == 2020]\n",
        "\n",
        "\n",
        "#link naar nuttige beegin stappen: https://www.pluralsight.com/guides/machine-learning-neural-networks-scikit-learn\n",
        "#link naar sckitlearn : https://scikit-learn.org/stable/modules/neural_networks_supervised.html\n",
        "\n"
      ]
    },
    {
      "cell_type": "code",
      "execution_count": 26,
      "metadata": {
        "colab": {
          "base_uri": "https://localhost:8080/",
          "height": 311
        },
        "id": "36cDnhPkeCWi",
        "outputId": "b73ed811-1c45-47d7-9bae-9a8b495a13d0"
      },
      "outputs": [
        {
          "output_type": "stream",
          "name": "stderr",
          "text": [
            "/usr/local/lib/python3.7/dist-packages/pandas/core/frame.py:3069: SettingWithCopyWarning: \n",
            "A value is trying to be set on a copy of a slice from a DataFrame.\n",
            "Try using .loc[row_indexer,col_indexer] = value instead\n",
            "\n",
            "See the caveats in the documentation: https://pandas.pydata.org/pandas-docs/stable/user_guide/indexing.html#returning-a-view-versus-a-copy\n",
            "  self[k1] = value[k2]\n"
          ]
        },
        {
          "output_type": "execute_result",
          "data": {
            "text/html": [
              "\n",
              "  <div id=\"df-e8453b6f-2830-4021-987f-24f7c78e9e55\">\n",
              "    <div class=\"colab-df-container\">\n",
              "      <div>\n",
              "<style scoped>\n",
              "    .dataframe tbody tr th:only-of-type {\n",
              "        vertical-align: middle;\n",
              "    }\n",
              "\n",
              "    .dataframe tbody tr th {\n",
              "        vertical-align: top;\n",
              "    }\n",
              "\n",
              "    .dataframe thead th {\n",
              "        text-align: right;\n",
              "    }\n",
              "</style>\n",
              "<table border=\"1\" class=\"dataframe\">\n",
              "  <thead>\n",
              "    <tr style=\"text-align: right;\">\n",
              "      <th></th>\n",
              "      <th>count</th>\n",
              "      <th>mean</th>\n",
              "      <th>std</th>\n",
              "      <th>min</th>\n",
              "      <th>25%</th>\n",
              "      <th>50%</th>\n",
              "      <th>75%</th>\n",
              "      <th>max</th>\n",
              "    </tr>\n",
              "  </thead>\n",
              "  <tbody>\n",
              "    <tr>\n",
              "      <th>year</th>\n",
              "      <td>20846.0</td>\n",
              "      <td>9.971354e-01</td>\n",
              "      <td>1.979149e-03</td>\n",
              "      <td>0.991089</td>\n",
              "      <td>0.995545</td>\n",
              "      <td>0.997525</td>\n",
              "      <td>0.999010</td>\n",
              "      <td>1.000000e+00</td>\n",
              "    </tr>\n",
              "    <tr>\n",
              "      <th>target</th>\n",
              "      <td>20846.0</td>\n",
              "      <td>3.771560e+06</td>\n",
              "      <td>2.949993e+07</td>\n",
              "      <td>0.000000</td>\n",
              "      <td>7149.500000</td>\n",
              "      <td>55537.620000</td>\n",
              "      <td>607012.750000</td>\n",
              "      <td>3.619808e+09</td>\n",
              "    </tr>\n",
              "    <tr>\n",
              "      <th>sector</th>\n",
              "      <td>20846.0</td>\n",
              "      <td>2.497186e-01</td>\n",
              "      <td>2.053802e-01</td>\n",
              "      <td>0.038462</td>\n",
              "      <td>0.076923</td>\n",
              "      <td>0.192308</td>\n",
              "      <td>0.365385</td>\n",
              "      <td>1.000000e+00</td>\n",
              "    </tr>\n",
              "  </tbody>\n",
              "</table>\n",
              "</div>\n",
              "      <button class=\"colab-df-convert\" onclick=\"convertToInteractive('df-e8453b6f-2830-4021-987f-24f7c78e9e55')\"\n",
              "              title=\"Convert this dataframe to an interactive table.\"\n",
              "              style=\"display:none;\">\n",
              "        \n",
              "  <svg xmlns=\"http://www.w3.org/2000/svg\" height=\"24px\"viewBox=\"0 0 24 24\"\n",
              "       width=\"24px\">\n",
              "    <path d=\"M0 0h24v24H0V0z\" fill=\"none\"/>\n",
              "    <path d=\"M18.56 5.44l.94 2.06.94-2.06 2.06-.94-2.06-.94-.94-2.06-.94 2.06-2.06.94zm-11 1L8.5 8.5l.94-2.06 2.06-.94-2.06-.94L8.5 2.5l-.94 2.06-2.06.94zm10 10l.94 2.06.94-2.06 2.06-.94-2.06-.94-.94-2.06-.94 2.06-2.06.94z\"/><path d=\"M17.41 7.96l-1.37-1.37c-.4-.4-.92-.59-1.43-.59-.52 0-1.04.2-1.43.59L10.3 9.45l-7.72 7.72c-.78.78-.78 2.05 0 2.83L4 21.41c.39.39.9.59 1.41.59.51 0 1.02-.2 1.41-.59l7.78-7.78 2.81-2.81c.8-.78.8-2.07 0-2.86zM5.41 20L4 18.59l7.72-7.72 1.47 1.35L5.41 20z\"/>\n",
              "  </svg>\n",
              "      </button>\n",
              "      \n",
              "  <style>\n",
              "    .colab-df-container {\n",
              "      display:flex;\n",
              "      flex-wrap:wrap;\n",
              "      gap: 12px;\n",
              "    }\n",
              "\n",
              "    .colab-df-convert {\n",
              "      background-color: #E8F0FE;\n",
              "      border: none;\n",
              "      border-radius: 50%;\n",
              "      cursor: pointer;\n",
              "      display: none;\n",
              "      fill: #1967D2;\n",
              "      height: 32px;\n",
              "      padding: 0 0 0 0;\n",
              "      width: 32px;\n",
              "    }\n",
              "\n",
              "    .colab-df-convert:hover {\n",
              "      background-color: #E2EBFA;\n",
              "      box-shadow: 0px 1px 2px rgba(60, 64, 67, 0.3), 0px 1px 3px 1px rgba(60, 64, 67, 0.15);\n",
              "      fill: #174EA6;\n",
              "    }\n",
              "\n",
              "    [theme=dark] .colab-df-convert {\n",
              "      background-color: #3B4455;\n",
              "      fill: #D2E3FC;\n",
              "    }\n",
              "\n",
              "    [theme=dark] .colab-df-convert:hover {\n",
              "      background-color: #434B5C;\n",
              "      box-shadow: 0px 1px 3px 1px rgba(0, 0, 0, 0.15);\n",
              "      filter: drop-shadow(0px 1px 2px rgba(0, 0, 0, 0.3));\n",
              "      fill: #FFFFFF;\n",
              "    }\n",
              "  </style>\n",
              "\n",
              "      <script>\n",
              "        const buttonEl =\n",
              "          document.querySelector('#df-e8453b6f-2830-4021-987f-24f7c78e9e55 button.colab-df-convert');\n",
              "        buttonEl.style.display =\n",
              "          google.colab.kernel.accessAllowed ? 'block' : 'none';\n",
              "\n",
              "        async function convertToInteractive(key) {\n",
              "          const element = document.querySelector('#df-e8453b6f-2830-4021-987f-24f7c78e9e55');\n",
              "          const dataTable =\n",
              "            await google.colab.kernel.invokeFunction('convertToInteractive',\n",
              "                                                     [key], {});\n",
              "          if (!dataTable) return;\n",
              "\n",
              "          const docLinkHtml = 'Like what you see? Visit the ' +\n",
              "            '<a target=\"_blank\" href=https://colab.research.google.com/notebooks/data_table.ipynb>data table notebook</a>'\n",
              "            + ' to learn more about interactive tables.';\n",
              "          element.innerHTML = '';\n",
              "          dataTable['output_type'] = 'display_data';\n",
              "          await google.colab.output.renderOutput(dataTable, element);\n",
              "          const docLink = document.createElement('div');\n",
              "          docLink.innerHTML = docLinkHtml;\n",
              "          element.appendChild(docLink);\n",
              "        }\n",
              "      </script>\n",
              "    </div>\n",
              "  </div>\n",
              "  "
            ],
            "text/plain": [
              "          count          mean  ...            75%           max\n",
              "year    20846.0  9.971354e-01  ...       0.999010  1.000000e+00\n",
              "target  20846.0  3.771560e+06  ...  607012.750000  3.619808e+09\n",
              "sector  20846.0  2.497186e-01  ...       0.365385  1.000000e+00\n",
              "\n",
              "[3 rows x 8 columns]"
            ]
          },
          "metadata": {},
          "execution_count": 26
        }
      ],
      "source": [
        "target_column = ['target'] \n",
        "predictors = list(set(list(df.columns))-set(target_column))\n",
        "df[predictors] = df[predictors]/df[predictors].max()\n",
        "df.describe().transpose()"
      ]
    },
    {
      "cell_type": "code",
      "execution_count": 27,
      "metadata": {
        "colab": {
          "base_uri": "https://localhost:8080/"
        },
        "id": "Bx7AMgHreCWi",
        "outputId": "c931e27f-235d-4e3c-b50d-7dd16c715aaf"
      },
      "outputs": [
        {
          "output_type": "stream",
          "name": "stdout",
          "text": [
            "(16884, 2)\n",
            "(2085, 2)\n"
          ]
        }
      ],
      "source": [
        "X = df[predictors].values\n",
        "y = df[target_column].values\n",
        "\n",
        "X_train, X_test, y_train, y_test = train_test_split(X, y, test_size=0.10, random_state=40)\n",
        "X_train, X_val, y_train, y_val = train_test_split(X_train, y_train, test_size = 0.10, random_state=40)\n",
        "print(X_train.shape); print(X_test.shape)"
      ]
    },
    {
      "cell_type": "code",
      "source": [
        "print(y_train.shape)"
      ],
      "metadata": {
        "id": "S0Ogg4OKWP7e",
        "outputId": "f26132eb-04b9-4d91-a77c-6fb6ccc5245e",
        "colab": {
          "base_uri": "https://localhost:8080/"
        }
      },
      "execution_count": 28,
      "outputs": [
        {
          "output_type": "stream",
          "name": "stdout",
          "text": [
            "(16884, 1)\n"
          ]
        }
      ]
    },
    {
      "cell_type": "code",
      "source": [
        "\"\"\"In this step, we will build the neural network model using the scikit-learn library's estimator object, 'Multi-Layer Perceptron Classifier'. The first line of code (shown below) imports 'MLPClassifier'.\n",
        "\n",
        "The second line instantiates the model with the 'hidden_layer_sizes' argument set to three layers, which has the same number of neurons as the count of features in the dataset. We will also select 'relu' as the activation function and 'adam' as the solver for weight optimization. To learn more about 'relu' and 'adam', please refer to the Deep Learning with Keras guides, the links of which are given at the end of this guide.\n",
        "\n",
        "The third line of code fits the model to the training data, while the fourth and fifth lines use the trained model to generate predictions on the training and test dataset, respectively.\"\"\"\n",
        "\n",
        "# FEEDBACK, for regression probelem, use regressor, not classifier\n",
        "from sklearn.neural_network import MLPRegressor\n",
        "\n",
        "mlp = MLPRegressor(hidden_layer_sizes=(8,8,8), activation='relu', solver='adam', max_iter=500)\n",
        "print(y_train.shape)\n",
        "mlp.fit(X_train, y_train.ravel())\n",
        "\n",
        "\n",
        "# FEEDBACK, use train, val, test, not just train test\n",
        "mlp.predict(X_test)"
      ],
      "metadata": {
        "colab": {
          "base_uri": "https://localhost:8080/"
        },
        "id": "HY4ida_GhovL",
        "outputId": "283c1c33-abe2-4975-feb5-b649f7872c82"
      },
      "execution_count": 29,
      "outputs": [
        {
          "output_type": "stream",
          "name": "stdout",
          "text": [
            "(16884, 1)\n"
          ]
        },
        {
          "output_type": "execute_result",
          "data": {
            "text/plain": [
              "array([3544624.94465286, 3766834.33471231, 3687517.05301283, ...,\n",
              "       3782576.78975129, 4008227.75066201, 3602177.02232363])"
            ]
          },
          "metadata": {},
          "execution_count": 29
        }
      ]
    },
    {
      "cell_type": "code",
      "source": [
        "# FEEDBACK, for regression problem, use regression metrics e.g. Mean squared error\n",
        "mlp.score(X_test, y_test)"
      ],
      "metadata": {
        "id": "fi0b_yViiMcK",
        "outputId": "fa060fa4-f3c2-4840-bdfe-5a0751ff2d4f",
        "colab": {
          "base_uri": "https://localhost:8080/"
        }
      },
      "execution_count": 30,
      "outputs": [
        {
          "output_type": "execute_result",
          "data": {
            "text/plain": [
              "0.0003161075032513949"
            ]
          },
          "metadata": {},
          "execution_count": 30
        }
      ]
    },
    {
      "cell_type": "code",
      "source": [
        "from sklearn.ensemble import RandomForestRegressor\n",
        "rfr = RandomForestRegressor(n_estimators = 500, random_state = 0)\n",
        "rfr.fit(X_train, y_train.ravel())\n",
        "rfr.predict(X_test)"
      ],
      "metadata": {
        "id": "3BqXGoGqhZuy",
        "outputId": "56dfb4ef-8cfe-419c-f76e-92773f538dcd",
        "colab": {
          "base_uri": "https://localhost:8080/"
        }
      },
      "execution_count": 31,
      "outputs": [
        {
          "output_type": "execute_result",
          "data": {
            "text/plain": [
              "array([1.40208501e+04, 2.14106111e+05, 3.60758399e+05, ...,\n",
              "       4.06737961e+05, 1.94041722e+05, 2.68777892e+07])"
            ]
          },
          "metadata": {},
          "execution_count": 31
        }
      ]
    },
    {
      "cell_type": "code",
      "source": [
        "rfr.score(X_test, y_test)"
      ],
      "metadata": {
        "id": "IZLLS-bilYye",
        "outputId": "54e7ce0f-3fc2-4228-de09-f382ff874641",
        "colab": {
          "base_uri": "https://localhost:8080/"
        }
      },
      "execution_count": 32,
      "outputs": [
        {
          "output_type": "execute_result",
          "data": {
            "text/plain": [
              "-6.411681184700138"
            ]
          },
          "metadata": {},
          "execution_count": 32
        }
      ]
    }
  ],
  "metadata": {
    "colab": {
      "collapsed_sections": [],
      "name": "company_emissions_preprocessing.ipynb",
      "provenance": [],
      "include_colab_link": true
    },
    "kernelspec": {
      "display_name": "Python 3",
      "language": "python",
      "name": "python3"
    },
    "language_info": {
      "codemirror_mode": {
        "name": "ipython",
        "version": 3
      },
      "file_extension": ".py",
      "mimetype": "text/x-python",
      "name": "python",
      "nbconvert_exporter": "python",
      "pygments_lexer": "ipython3",
      "version": "3.8.10"
    }
  },
  "nbformat": 4,
  "nbformat_minor": 0
}