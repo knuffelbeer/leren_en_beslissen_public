{
  "nbformat": 4,
  "nbformat_minor": 0,
  "metadata": {
    "colab": {
      "name": "company_emissions_preprocessing.ipynb",
      "provenance": [],
      "collapsed_sections": [],
      "include_colab_link": true
    },
    "kernelspec": {
      "name": "python3",
      "display_name": "Python 3"
    },
    "language_info": {
      "name": "python"
    }
  },
  "cells": [
    {
      "cell_type": "markdown",
      "metadata": {
        "id": "view-in-github",
        "colab_type": "text"
      },
      "source": [
        "<a href=\"https://colab.research.google.com/github/knuffelbeer/leren_en_beslissen_public/blob/main/company_emissions_preprocessing.ipynb\" target=\"_parent\"><img src=\"https://colab.research.google.com/assets/colab-badge.svg\" alt=\"Open In Colab\"/></a>"
      ]
    },
    {
      "cell_type": "code",
      "execution_count": null,
      "metadata": {
        "id": "acm5tgNHjLjX",
        "colab": {
          "base_uri": "https://localhost:8080/",
          "height": 452
        },
        "outputId": "277e61b8-6373-4a35-f403-8ada462ed1c4"
      },
      "outputs": [
        {
          "output_type": "error",
          "ename": "FileNotFoundError",
          "evalue": "ignored",
          "traceback": [
            "\u001b[0;31m---------------------------------------------------------------------------\u001b[0m",
            "\u001b[0;31mFileNotFoundError\u001b[0m                         Traceback (most recent call last)",
            "\u001b[0;32m<ipython-input-3-e7314d02db66>\u001b[0m in \u001b[0;36m<module>\u001b[0;34m()\u001b[0m\n\u001b[1;32m      2\u001b[0m \u001b[0;34m\u001b[0m\u001b[0m\n\u001b[1;32m      3\u001b[0m \u001b[0;31m#open dataset\u001b[0m\u001b[0;34m\u001b[0m\u001b[0;34m\u001b[0m\u001b[0;34m\u001b[0m\u001b[0m\n\u001b[0;32m----> 4\u001b[0;31m \u001b[0mdf0\u001b[0m \u001b[0;34m=\u001b[0m \u001b[0mpd\u001b[0m\u001b[0;34m.\u001b[0m\u001b[0mread_csv\u001b[0m\u001b[0;34m(\u001b[0m\u001b[0;34m\"20220105_company_emissions_data.csv\"\u001b[0m\u001b[0;34m,\u001b[0m \u001b[0msep\u001b[0m\u001b[0;34m=\u001b[0m\u001b[0;34m','\u001b[0m\u001b[0;34m)\u001b[0m\u001b[0;34m\u001b[0m\u001b[0;34m\u001b[0m\u001b[0m\n\u001b[0m\u001b[1;32m      5\u001b[0m \u001b[0;34m\u001b[0m\u001b[0m\n\u001b[1;32m      6\u001b[0m \u001b[0;31m#drop irrelevant columns from dataset\u001b[0m\u001b[0;34m\u001b[0m\u001b[0;34m\u001b[0m\u001b[0;34m\u001b[0m\u001b[0m\n",
            "\u001b[0;32m/usr/local/lib/python3.7/dist-packages/pandas/io/parsers.py\u001b[0m in \u001b[0;36mread_csv\u001b[0;34m(filepath_or_buffer, sep, delimiter, header, names, index_col, usecols, squeeze, prefix, mangle_dupe_cols, dtype, engine, converters, true_values, false_values, skipinitialspace, skiprows, skipfooter, nrows, na_values, keep_default_na, na_filter, verbose, skip_blank_lines, parse_dates, infer_datetime_format, keep_date_col, date_parser, dayfirst, cache_dates, iterator, chunksize, compression, thousands, decimal, lineterminator, quotechar, quoting, doublequote, escapechar, comment, encoding, dialect, error_bad_lines, warn_bad_lines, delim_whitespace, low_memory, memory_map, float_precision)\u001b[0m\n\u001b[1;32m    686\u001b[0m     )\n\u001b[1;32m    687\u001b[0m \u001b[0;34m\u001b[0m\u001b[0m\n\u001b[0;32m--> 688\u001b[0;31m     \u001b[0;32mreturn\u001b[0m \u001b[0m_read\u001b[0m\u001b[0;34m(\u001b[0m\u001b[0mfilepath_or_buffer\u001b[0m\u001b[0;34m,\u001b[0m \u001b[0mkwds\u001b[0m\u001b[0;34m)\u001b[0m\u001b[0;34m\u001b[0m\u001b[0;34m\u001b[0m\u001b[0m\n\u001b[0m\u001b[1;32m    689\u001b[0m \u001b[0;34m\u001b[0m\u001b[0m\n\u001b[1;32m    690\u001b[0m \u001b[0;34m\u001b[0m\u001b[0m\n",
            "\u001b[0;32m/usr/local/lib/python3.7/dist-packages/pandas/io/parsers.py\u001b[0m in \u001b[0;36m_read\u001b[0;34m(filepath_or_buffer, kwds)\u001b[0m\n\u001b[1;32m    452\u001b[0m \u001b[0;34m\u001b[0m\u001b[0m\n\u001b[1;32m    453\u001b[0m     \u001b[0;31m# Create the parser.\u001b[0m\u001b[0;34m\u001b[0m\u001b[0;34m\u001b[0m\u001b[0;34m\u001b[0m\u001b[0m\n\u001b[0;32m--> 454\u001b[0;31m     \u001b[0mparser\u001b[0m \u001b[0;34m=\u001b[0m \u001b[0mTextFileReader\u001b[0m\u001b[0;34m(\u001b[0m\u001b[0mfp_or_buf\u001b[0m\u001b[0;34m,\u001b[0m \u001b[0;34m**\u001b[0m\u001b[0mkwds\u001b[0m\u001b[0;34m)\u001b[0m\u001b[0;34m\u001b[0m\u001b[0;34m\u001b[0m\u001b[0m\n\u001b[0m\u001b[1;32m    455\u001b[0m \u001b[0;34m\u001b[0m\u001b[0m\n\u001b[1;32m    456\u001b[0m     \u001b[0;32mif\u001b[0m \u001b[0mchunksize\u001b[0m \u001b[0;32mor\u001b[0m \u001b[0miterator\u001b[0m\u001b[0;34m:\u001b[0m\u001b[0;34m\u001b[0m\u001b[0;34m\u001b[0m\u001b[0m\n",
            "\u001b[0;32m/usr/local/lib/python3.7/dist-packages/pandas/io/parsers.py\u001b[0m in \u001b[0;36m__init__\u001b[0;34m(self, f, engine, **kwds)\u001b[0m\n\u001b[1;32m    946\u001b[0m             \u001b[0mself\u001b[0m\u001b[0;34m.\u001b[0m\u001b[0moptions\u001b[0m\u001b[0;34m[\u001b[0m\u001b[0;34m\"has_index_names\"\u001b[0m\u001b[0;34m]\u001b[0m \u001b[0;34m=\u001b[0m \u001b[0mkwds\u001b[0m\u001b[0;34m[\u001b[0m\u001b[0;34m\"has_index_names\"\u001b[0m\u001b[0;34m]\u001b[0m\u001b[0;34m\u001b[0m\u001b[0;34m\u001b[0m\u001b[0m\n\u001b[1;32m    947\u001b[0m \u001b[0;34m\u001b[0m\u001b[0m\n\u001b[0;32m--> 948\u001b[0;31m         \u001b[0mself\u001b[0m\u001b[0;34m.\u001b[0m\u001b[0m_make_engine\u001b[0m\u001b[0;34m(\u001b[0m\u001b[0mself\u001b[0m\u001b[0;34m.\u001b[0m\u001b[0mengine\u001b[0m\u001b[0;34m)\u001b[0m\u001b[0;34m\u001b[0m\u001b[0;34m\u001b[0m\u001b[0m\n\u001b[0m\u001b[1;32m    949\u001b[0m \u001b[0;34m\u001b[0m\u001b[0m\n\u001b[1;32m    950\u001b[0m     \u001b[0;32mdef\u001b[0m \u001b[0mclose\u001b[0m\u001b[0;34m(\u001b[0m\u001b[0mself\u001b[0m\u001b[0;34m)\u001b[0m\u001b[0;34m:\u001b[0m\u001b[0;34m\u001b[0m\u001b[0;34m\u001b[0m\u001b[0m\n",
            "\u001b[0;32m/usr/local/lib/python3.7/dist-packages/pandas/io/parsers.py\u001b[0m in \u001b[0;36m_make_engine\u001b[0;34m(self, engine)\u001b[0m\n\u001b[1;32m   1178\u001b[0m     \u001b[0;32mdef\u001b[0m \u001b[0m_make_engine\u001b[0m\u001b[0;34m(\u001b[0m\u001b[0mself\u001b[0m\u001b[0;34m,\u001b[0m \u001b[0mengine\u001b[0m\u001b[0;34m=\u001b[0m\u001b[0;34m\"c\"\u001b[0m\u001b[0;34m)\u001b[0m\u001b[0;34m:\u001b[0m\u001b[0;34m\u001b[0m\u001b[0;34m\u001b[0m\u001b[0m\n\u001b[1;32m   1179\u001b[0m         \u001b[0;32mif\u001b[0m \u001b[0mengine\u001b[0m \u001b[0;34m==\u001b[0m \u001b[0;34m\"c\"\u001b[0m\u001b[0;34m:\u001b[0m\u001b[0;34m\u001b[0m\u001b[0;34m\u001b[0m\u001b[0m\n\u001b[0;32m-> 1180\u001b[0;31m             \u001b[0mself\u001b[0m\u001b[0;34m.\u001b[0m\u001b[0m_engine\u001b[0m \u001b[0;34m=\u001b[0m \u001b[0mCParserWrapper\u001b[0m\u001b[0;34m(\u001b[0m\u001b[0mself\u001b[0m\u001b[0;34m.\u001b[0m\u001b[0mf\u001b[0m\u001b[0;34m,\u001b[0m \u001b[0;34m**\u001b[0m\u001b[0mself\u001b[0m\u001b[0;34m.\u001b[0m\u001b[0moptions\u001b[0m\u001b[0;34m)\u001b[0m\u001b[0;34m\u001b[0m\u001b[0;34m\u001b[0m\u001b[0m\n\u001b[0m\u001b[1;32m   1181\u001b[0m         \u001b[0;32melse\u001b[0m\u001b[0;34m:\u001b[0m\u001b[0;34m\u001b[0m\u001b[0;34m\u001b[0m\u001b[0m\n\u001b[1;32m   1182\u001b[0m             \u001b[0;32mif\u001b[0m \u001b[0mengine\u001b[0m \u001b[0;34m==\u001b[0m \u001b[0;34m\"python\"\u001b[0m\u001b[0;34m:\u001b[0m\u001b[0;34m\u001b[0m\u001b[0;34m\u001b[0m\u001b[0m\n",
            "\u001b[0;32m/usr/local/lib/python3.7/dist-packages/pandas/io/parsers.py\u001b[0m in \u001b[0;36m__init__\u001b[0;34m(self, src, **kwds)\u001b[0m\n\u001b[1;32m   2008\u001b[0m         \u001b[0mkwds\u001b[0m\u001b[0;34m[\u001b[0m\u001b[0;34m\"usecols\"\u001b[0m\u001b[0;34m]\u001b[0m \u001b[0;34m=\u001b[0m \u001b[0mself\u001b[0m\u001b[0;34m.\u001b[0m\u001b[0musecols\u001b[0m\u001b[0;34m\u001b[0m\u001b[0;34m\u001b[0m\u001b[0m\n\u001b[1;32m   2009\u001b[0m \u001b[0;34m\u001b[0m\u001b[0m\n\u001b[0;32m-> 2010\u001b[0;31m         \u001b[0mself\u001b[0m\u001b[0;34m.\u001b[0m\u001b[0m_reader\u001b[0m \u001b[0;34m=\u001b[0m \u001b[0mparsers\u001b[0m\u001b[0;34m.\u001b[0m\u001b[0mTextReader\u001b[0m\u001b[0;34m(\u001b[0m\u001b[0msrc\u001b[0m\u001b[0;34m,\u001b[0m \u001b[0;34m**\u001b[0m\u001b[0mkwds\u001b[0m\u001b[0;34m)\u001b[0m\u001b[0;34m\u001b[0m\u001b[0;34m\u001b[0m\u001b[0m\n\u001b[0m\u001b[1;32m   2011\u001b[0m         \u001b[0mself\u001b[0m\u001b[0;34m.\u001b[0m\u001b[0munnamed_cols\u001b[0m \u001b[0;34m=\u001b[0m \u001b[0mself\u001b[0m\u001b[0;34m.\u001b[0m\u001b[0m_reader\u001b[0m\u001b[0;34m.\u001b[0m\u001b[0munnamed_cols\u001b[0m\u001b[0;34m\u001b[0m\u001b[0;34m\u001b[0m\u001b[0m\n\u001b[1;32m   2012\u001b[0m \u001b[0;34m\u001b[0m\u001b[0m\n",
            "\u001b[0;32mpandas/_libs/parsers.pyx\u001b[0m in \u001b[0;36mpandas._libs.parsers.TextReader.__cinit__\u001b[0;34m()\u001b[0m\n",
            "\u001b[0;32mpandas/_libs/parsers.pyx\u001b[0m in \u001b[0;36mpandas._libs.parsers.TextReader._setup_parser_source\u001b[0;34m()\u001b[0m\n",
            "\u001b[0;31mFileNotFoundError\u001b[0m: [Errno 2] No such file or directory: '20220105_company_emissions_data.csv'"
          ]
        }
      ],
      "source": [
        "import pandas as pd \n",
        "\n",
        "#open dataset\n",
        "df0 = pd.read_csv(\"20220105_company_emissions_data.csv\", sep=',')\n",
        "\n",
        "#drop irrelevant columns from dataset\n",
        "df1 = df0.drop(columns=['WorkforceDataPoints.AsianMinoritiesEmployeesPercent',\n",
        "                       'WorkforceDataPoints.AsianMinoritiesManagersPercent', \n",
        "                      'WorkforceDataPoints.AverageEmployeeLengthOfService',\n",
        "                      'WorkforceDataPoints.AverageTrainingHours', \n",
        "                      'WorkforceDataPoints.BbbeeLevel', \n",
        "                      'WorkforceDataPoints.BlackOrAfricanAmericanMinoritiesEmployeesPercent',\n",
        "                      'WorkforceDataPoints.BlackOrAfricanAmericanMinoritiesManagersPercent',\n",
        "                      'WorkforceDataPoints.ContractorAccidents',\n",
        "                      'WorkforceDataPoints.ContractorFatalities',\n",
        "                      'WorkforceDataPoints.ContractorLostWorkingDays',\n",
        "                      'WorkforceDataPoints.DayCareServices',\n",
        "                      'WorkforceDataPoints.DiversityAndOpportunityControversies',\n",
        "                      'WorkforceDataPoints.EmployeeAccidents',\n",
        "                      'WorkforceDataPoints.EmployeeFatalities',\n",
        "                      'WorkforceDataPoints.EmployeeHealthAndSafetyTrainingHours',\n",
        "                      'WorkforceDataPoints.EmployeeLostWorkingDays',\n",
        "                      'WorkforceDataPoints.EmployeeResourceGroups',\n",
        "                      'WorkforceDataPoints.EmployeeSatisfaction',\n",
        "                      'WorkforceDataPoints.EmployeesHealthAndSafetyControversies',\n",
        "                      'WorkforceDataPoints.EmployeesHealthAndSafetyOhsas18001',\n",
        "                      'WorkforceDataPoints.EmployeesHealthAndSafetyTeam',\n",
        "                      'WorkforceDataPoints.EmployeesWithDisabilities',\n",
        "                      'WorkforceDataPoints.FlexibleWorkingHours',\n",
        "                      'WorkforceDataPoints.GenderPayGapPercentage',\n",
        "                      'WorkforceDataPoints.HealthAndSafetyTraining',\n",
        "                      'WorkforceDataPoints.HispanicOrLatinoMinoritiesEmployeesPercent',\n",
        "                      'WorkforceDataPoints.HispanicOrLatinoMinoritiesManagersPercent',\n",
        "                      'WorkforceDataPoints.HivAidsProgram',\n",
        "                      'WorkforceDataPoints.HrcCorporateEqualityIndex',\n",
        "                      'WorkforceDataPoints.HsmsCertifiedPercentage',\n",
        "                      'WorkforceDataPoints.InternalPromotion',\n",
        "                      'WorkforceDataPoints.InvoluntaryTurnoverOfEmployees',\n",
        "                      'WorkforceDataPoints.LostTimeInjuryRateContractors',\n",
        "                      'WorkforceDataPoints.LostTimeInjuryRateEmployees',\n",
        "                      'WorkforceDataPoints.LostTimeInjuryRateTotal',\n",
        "                      'WorkforceDataPoints.LostWorkingDays',\n",
        "                      'WorkforceDataPoints.ManagementDepartures',\n",
        "                      'WorkforceDataPoints.ManagementTraining',\n",
        "                      'WorkforceDataPoints.MinoritiesEmployeesPercent',\n",
        "                      'WorkforceDataPoints.MinoritiesManagersPercent',\n",
        "                      'WorkforceDataPoints.MinoritiesSalaryGapPercent',\n",
        "                      'WorkforceDataPoints.NewWomenEmployees',\n",
        "                      'WorkforceDataPoints.NumberOfEmployeesFromCsrReporting',\n",
        "                      'WorkforceDataPoints.OccupationalDiseases',\n",
        "                      'WorkforceDataPoints.OtherMinoritiesEmployeesPercent',\n",
        "                      'WorkforceDataPoints.OtherMinoritiesManagersPercent',\n",
        "                      'WorkforceDataPoints.PolicyCareerDevelopment',\n",
        "                      'WorkforceDataPoints.PolicyDiversityAndOpportunity',\n",
        "                      'WorkforceDataPoints.PolicyEmployeeHealthAndSafety',\n",
        "                      'WorkforceDataPoints.PolicySkillsTraining',\n",
        "                      'WorkforceDataPoints.PolicySupplyChainHealthAndSafety',\n",
        "                      'WorkforceDataPoints.RecentDiversityOpportunityControversies',\n",
        "                      'WorkforceDataPoints.RecentEmployeeHealthAndSafetyControversies',\n",
        "                      'WorkforceDataPoints.RecentWagesWorkingConditionControversies',\n",
        "                      'WorkforceDataPoints.SalariesAndWagesFromCsrReporting',\n",
        "                      'WorkforceDataPoints.Strikes',\n",
        "                      'WorkforceDataPoints.SupplierESGTraining',\n",
        "                      'WorkforceDataPoints.SupplyChainHealthAndSafetyImprovements',\n",
        "                      'WorkforceDataPoints.SupplyChainHealthAndSafetyTraining',\n",
        "                      'WorkforceDataPoints.TargetsDiversityAndOpportunity',\n",
        "                      'WorkforceDataPoints.TotalInjuryRateContractors',\n",
        "                      'WorkforceDataPoints.TotalInjuryRateEmployees',\n",
        "                      'WorkforceDataPoints.TotalInjuryRateTotal',\n",
        "                      'WorkforceDataPoints.TradeUnionRepresentation',\n",
        "                      'WorkforceDataPoints.TrainingCostsTotal',\n",
        "                      'WorkforceDataPoints.TrainingHoursTotal',\n",
        "                      'WorkforceDataPoints.TurnoverOfEmployees',\n",
        "                      'WorkforceDataPoints.VoluntaryTurnoverOfEmployees',\n",
        "                      'WorkforceDataPoints.WagesWorkingConditionControversiesCount',\n",
        "                      'WorkforceDataPoints.WhiteMinoritiesEmployeesPercent',\n",
        "                      'WorkforceDataPoints.WhiteMinoritiesManagersPercent',\n",
        "                      'WorkforceDataPoints.WomenEmployees',\n",
        "                      'WorkforceDataPoints.WomenManagers',\n",
        "                      'WorkforceIndicators.AnnouncedLayOffsToTotalEmployees',\n",
        "                      'WorkforceIndicators.HealthAndSafetyPolicy',\n",
        "                      'WorkforceIndicators.InjuriesToMillionHours',\n",
        "                      'WorkforceIndicators.LostDaysToTotalDays',\n",
        "                      'WorkforceIndicators.NetEmploymentCreation',\n",
        "                      'WorkforceIndicators.SalaryGap',\n",
        "                      'WorkforceIndicators.TrainingAndDevelopmentPolicy',\n",
        "                      'WorkforceIndicators.TrainingCostsPerEmployee',\n",
        "                      'WorkforceIndicators.WagesWorkingConditionControversies'],\n",
        "                      axis=1)\n",
        "    \n",
        "#number of columns in (cleaned) dataset\n",
        "len(df0.columns)\n",
        "len(df1.columns)\n",
        "\n",
        "df1.sort_values(['GTAP sector'], ascending=[True], inplace=True)\n",
        "\n",
        "#save cleaned dataset as new file\n",
        "df = df1.to_csv('company_emissions_cleaned.csv', index=True)\n",
        "print('test')"
      ]
    }
  ]
}