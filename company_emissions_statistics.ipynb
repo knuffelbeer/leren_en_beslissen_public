{
 "cells": [
  {
   "cell_type": "code",
   "execution_count": 17,
   "id": "angry-husband",
   "metadata": {},
   "outputs": [],
   "source": [
    "import pandas as pd \n",
    "\n",
    "#open dataset\n",
    "df0 = pd.read_csv(\"20220105_company_emissions_data.csv\", sep=',')\n",
    "\n",
    "#df0.describe()\n",
    "\n",
    "#df0[\"EmissionDataPoints.CO2EquivalentsEmissionDirectScope1\"].describe()\n",
    "#max: 3619808000; mean: 3686682\n",
    "\n",
    "#df0[\"EmissionDataPoints.AnalyticEstimatesCO2EquivalentsEmissionTotal\"].describe()\n",
    "#max: 1490610000; mean: 2446815\n",
    "\n",
    "#2002-2020\n",
    "\n",
    "#df0['organization_id'].nunique()\n",
    "#14958\n",
    "\n",
    "#df0['GTAP sector'].nunique()\n",
    "#56 without Null\n",
    "\n",
    "#df0.isna().sum().sum()\n",
    "#12614365\n",
    "\n",
    "#df0[\"EmissionDataPoints.CO2EquivalentsEmissionDirectScope1\"].isna().sum()\n",
    "#76020\n",
    "\n",
    "#df0[\"EmissionDataPoints.AnalyticEstimatesCO2EquivalentsEmissionTotal\"].isna().sum()\n",
    "#37094\n",
    "\n"
   ]
  },
  {
   "cell_type": "code",
   "execution_count": null,
   "id": "derived-telescope",
   "metadata": {},
   "outputs": [],
   "source": []
  }
 ],
 "metadata": {
  "kernelspec": {
   "display_name": "Python 3",
   "language": "python",
   "name": "python3"
  },
  "language_info": {
   "codemirror_mode": {
    "name": "ipython",
    "version": 3
   },
   "file_extension": ".py",
   "mimetype": "text/x-python",
   "name": "python",
   "nbconvert_exporter": "python",
   "pygments_lexer": "ipython3",
   "version": "3.8.10"
  }
 },
 "nbformat": 4,
 "nbformat_minor": 5
}
