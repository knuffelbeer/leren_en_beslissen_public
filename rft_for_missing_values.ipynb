{
  "nbformat": 4,
  "nbformat_minor": 0,
  "metadata": {
    "colab": {
      "name": "Untitled5.ipynb",
      "provenance": [],
      "authorship_tag": "ABX9TyPoc8tieBSgqb22hP/NCrWg",
      "include_colab_link": true
    },
    "kernelspec": {
      "name": "python3",
      "display_name": "Python 3"
    },
    "language_info": {
      "name": "python"
    }
  },
  "cells": [
    {
      "cell_type": "markdown",
      "metadata": {
        "id": "view-in-github",
        "colab_type": "text"
      },
      "source": [
        "<a href=\"https://colab.research.google.com/github/knuffelbeer/leren_en_beslissen_public/blob/main/rft_for_missing_values.ipynb\" target=\"_parent\"><img src=\"https://colab.research.google.com/assets/colab-badge.svg\" alt=\"Open In Colab\"/></a>"
      ]
    },
    {
      "cell_type": "code",
      "execution_count": 31,
      "metadata": {
        "id": "a4Lf3_QVtRWv"
      },
      "outputs": [],
      "source": [
        "# Import packages\n",
        "import pandas as pd\n",
        "import numpy as np \n",
        "import matplotlib.pyplot as plt\n",
        "import sklearn\n",
        "from sklearn.neural_network import MLPRegressor\n",
        "\n",
        "# Import modules\n",
        "\n",
        "from sklearn.model_selection import train_test_split\n",
        "from sklearn.metrics import mean_squared_error\n",
        "from math import sqrt\n",
        "from sklearn.metrics import r2_score\n",
        "\n",
        "#open dataset\n",
        "df = pd.read_csv(\"20220105_company_emissions_data.csv\", sep=',')\n",
        "\n",
        "#drop irrelevant columns from dataset\n",
        "df = df.drop(columns=['WorkforceDataPoints.AsianMinoritiesEmployeesPercent',\n",
        "                       'WorkforceDataPoints.AsianMinoritiesManagersPercent', \n",
        "                      'WorkforceDataPoints.AverageEmployeeLengthOfService',\n",
        "                      'WorkforceDataPoints.AverageTrainingHours', \n",
        "                      'WorkforceDataPoints.BbbeeLevel', \n",
        "                      'WorkforceDataPoints.BlackOrAfricanAmericanMinoritiesEmployeesPercent',\n",
        "                      'WorkforceDataPoints.BlackOrAfricanAmericanMinoritiesManagersPercent',\n",
        "                      'WorkforceDataPoints.ContractorAccidents',\n",
        "                      'WorkforceDataPoints.ContractorFatalities',\n",
        "                      'WorkforceDataPoints.ContractorLostWorkingDays',\n",
        "                      'WorkforceDataPoints.DayCareServices',\n",
        "                      'WorkforceDataPoints.DiversityAndOpportunityControversies',\n",
        "                      'WorkforceDataPoints.EmployeeAccidents',\n",
        "                      'WorkforceDataPoints.EmployeeFatalities',\n",
        "                      'WorkforceDataPoints.EmployeeHealthAndSafetyTrainingHours',\n",
        "                      'WorkforceDataPoints.EmployeeLostWorkingDays',\n",
        "                      'WorkforceDataPoints.EmployeeResourceGroups',\n",
        "                      'WorkforceDataPoints.EmployeeSatisfaction',\n",
        "                      'WorkforceDataPoints.EmployeesHealthAndSafetyControversies',\n",
        "                      'WorkforceDataPoints.EmployeesHealthAndSafetyOhsas18001',\n",
        "                      'WorkforceDataPoints.EmployeesHealthAndSafetyTeam',\n",
        "                      'WorkforceDataPoints.EmployeesWithDisabilities',\n",
        "                      'WorkforceDataPoints.FlexibleWorkingHours',\n",
        "                      'WorkforceDataPoints.GenderPayGapPercentage',\n",
        "                      'WorkforceDataPoints.HealthAndSafetyTraining',\n",
        "                      'WorkforceDataPoints.HispanicOrLatinoMinoritiesEmployeesPercent',\n",
        "                      'WorkforceDataPoints.HispanicOrLatinoMinoritiesManagersPercent',\n",
        "                      'WorkforceDataPoints.HivAidsProgram',\n",
        "                      'WorkforceDataPoints.HrcCorporateEqualityIndex',\n",
        "                      'WorkforceDataPoints.HsmsCertifiedPercentage',\n",
        "                      'WorkforceDataPoints.InternalPromotion',\n",
        "                      'WorkforceDataPoints.InvoluntaryTurnoverOfEmployees',\n",
        "                      'WorkforceDataPoints.LostTimeInjuryRateContractors',\n",
        "                      'WorkforceDataPoints.LostTimeInjuryRateEmployees',\n",
        "                      'WorkforceDataPoints.LostTimeInjuryRateTotal',\n",
        "                      'WorkforceDataPoints.LostWorkingDays',\n",
        "                      'WorkforceDataPoints.ManagementDepartures',\n",
        "                      'WorkforceDataPoints.ManagementTraining',\n",
        "                      'WorkforceDataPoints.MinoritiesEmployeesPercent',\n",
        "                      'WorkforceDataPoints.MinoritiesManagersPercent',\n",
        "                      'WorkforceDataPoints.MinoritiesSalaryGapPercent',\n",
        "                      'WorkforceDataPoints.NewWomenEmployees',\n",
        "                      'WorkforceDataPoints.NumberOfEmployeesFromCsrReporting',\n",
        "                      'WorkforceDataPoints.OccupationalDiseases',\n",
        "                      'WorkforceDataPoints.OtherMinoritiesEmployeesPercent',\n",
        "                      'WorkforceDataPoints.OtherMinoritiesManagersPercent',\n",
        "                      'WorkforceDataPoints.PolicyCareerDevelopment',\n",
        "                      'WorkforceDataPoints.PolicyDiversityAndOpportunity',\n",
        "                      'WorkforceDataPoints.PolicyEmployeeHealthAndSafety',\n",
        "                      'WorkforceDataPoints.PolicySkillsTraining',\n",
        "                      'WorkforceDataPoints.PolicySupplyChainHealthAndSafety',\n",
        "                      'WorkforceDataPoints.RecentDiversityOpportunityControversies',\n",
        "                      'WorkforceDataPoints.RecentEmployeeHealthAndSafetyControversies',\n",
        "                      'WorkforceDataPoints.RecentWagesWorkingConditionControversies',\n",
        "                      'WorkforceDataPoints.SalariesAndWagesFromCsrReporting',\n",
        "                      'WorkforceDataPoints.Strikes',\n",
        "                      'WorkforceDataPoints.SupplierESGTraining',\n",
        "                      'WorkforceDataPoints.SupplyChainHealthAndSafetyImprovements',\n",
        "                      'WorkforceDataPoints.SupplyChainHealthAndSafetyTraining',\n",
        "                      'WorkforceDataPoints.TargetsDiversityAndOpportunity',\n",
        "                      'WorkforceDataPoints.TotalInjuryRateContractors',\n",
        "                      'WorkforceDataPoints.TotalInjuryRateEmployees',\n",
        "                      'WorkforceDataPoints.TotalInjuryRateTotal',\n",
        "                      'WorkforceDataPoints.TradeUnionRepresentation',\n",
        "                      'WorkforceDataPoints.TrainingCostsTotal',\n",
        "                      'WorkforceDataPoints.TrainingHoursTotal',\n",
        "                      'WorkforceDataPoints.TurnoverOfEmployees',\n",
        "                      'WorkforceDataPoints.VoluntaryTurnoverOfEmployees',\n",
        "                      'WorkforceDataPoints.WagesWorkingConditionControversiesCount',\n",
        "                      'WorkforceDataPoints.WhiteMinoritiesEmployeesPercent',\n",
        "                      'WorkforceDataPoints.WhiteMinoritiesManagersPercent',\n",
        "                      'WorkforceDataPoints.WomenEmployees',\n",
        "                      'WorkforceDataPoints.WomenManagers',\n",
        "                      'WorkforceIndicators.AnnouncedLayOffsToTotalEmployees',\n",
        "                      'WorkforceIndicators.HealthAndSafetyPolicy',\n",
        "                      'WorkforceIndicators.InjuriesToMillionHours',\n",
        "                      'WorkforceIndicators.LostDaysToTotalDays',\n",
        "                      'WorkforceIndicators.NetEmploymentCreation',\n",
        "                      'WorkforceIndicators.SalaryGap',\n",
        "                      'WorkforceIndicators.TrainingAndDevelopmentPolicy',\n",
        "                      'WorkforceIndicators.TrainingCostsPerEmployee',\n",
        "                      'WorkforceIndicators.WagesWorkingConditionControversies'],\n",
        "                      axis=1)"
      ]
    },
    {
      "cell_type": "code",
      "source": [
        "df = df.rename(columns={\"GTAP sector\": \"sector\", \"EmissionDataPoints.CO2EquivalentsEmissionDirectScope1\" :\n",
        "                                     \"target\", \"StatementDetails.FinancialPeriodFiscalYear\" : \"year\"})\n",
        "df = df._get_numeric_data()\n",
        "df_without_target = df[df['target'].isna()].drop(labels='target',axis=1)\n",
        "df_with_target = df[df['target'].notna()]"
      ],
      "metadata": {
        "id": "UGO3w-71uUCZ"
      },
      "execution_count": 33,
      "outputs": []
    },
    {
      "cell_type": "code",
      "source": [
        "for column in df_with_target:\n",
        "  if not df_with_target[column].isna().values.all():\n",
        "    df_with_target[column] = df_with_target[column].fillna(np.mean(df_with_target[column].dropna()))\n",
        "  else:\n",
        "    df_with_target = df_with_target.drop(columns=column)"
      ],
      "metadata": {
        "colab": {
          "base_uri": "https://localhost:8080/"
        },
        "id": "YG6DsDtquAIH",
        "outputId": "f94b530f-769c-4dc8-e539-b3d334fcf1ee"
      },
      "execution_count": 34,
      "outputs": [
        {
          "output_type": "stream",
          "name": "stderr",
          "text": [
            "/usr/local/lib/python3.7/dist-packages/ipykernel_launcher.py:3: SettingWithCopyWarning: \n",
            "A value is trying to be set on a copy of a slice from a DataFrame.\n",
            "Try using .loc[row_indexer,col_indexer] = value instead\n",
            "\n",
            "See the caveats in the documentation: https://pandas.pydata.org/pandas-docs/stable/user_guide/indexing.html#returning-a-view-versus-a-copy\n",
            "  This is separate from the ipykernel package so we can avoid doing imports until\n"
          ]
        }
      ]
    },
    {
      "cell_type": "code",
      "source": [
        "target_column = ['target'] \n",
        "predictors = list(set(list(df_with_target.columns))-set(target_column))\n",
        "df_with_target[predictors] = df_with_target[predictors]/df_with_target[predictors].max()"
      ],
      "metadata": {
        "id": "Ktk1S7CGwDDb"
      },
      "execution_count": 11,
      "outputs": []
    },
    {
      "cell_type": "code",
      "source": [
        "X = df_with_target[predictors].values\n",
        "y = df_with_target[target_column].values\n",
        "\n",
        "X_train, X_test, y_train, y_test = train_test_split(X, y, test_size=0.10, random_state=40)\n",
        "X_train, X_val, y_train, y_val = train_test_split(X_train, y_train, test_size = 0.10, random_state=40)\n",
        "print(X_train.shape); print(X_test.shape)"
      ],
      "metadata": {
        "colab": {
          "base_uri": "https://localhost:8080/"
        },
        "id": "hxfRx8BpvyeI",
        "outputId": "9032ebea-5e5f-4960-bcfe-f1bc43c9b4c8"
      },
      "execution_count": 12,
      "outputs": [
        {
          "output_type": "stream",
          "name": "stdout",
          "text": [
            "(20319, 95)\n",
            "(2509, 95)\n"
          ]
        }
      ]
    },
    {
      "cell_type": "code",
      "source": [
        "from sklearn.ensemble import RandomForestRegressor\n",
        "rfr = RandomForestRegressor(n_estimators = 500, random_state = 0)\n",
        "rfr.fit(X_train, y_train.ravel())\n",
        "rfr.predict(X_test)"
      ],
      "metadata": {
        "colab": {
          "base_uri": "https://localhost:8080/"
        },
        "id": "JxKKT42Vu5-H",
        "outputId": "f269d7cd-211a-43cf-f636-6b4a5e348b3d"
      },
      "execution_count": 13,
      "outputs": [
        {
          "output_type": "execute_result",
          "data": {
            "text/plain": [
              "array([1.63137286e+04, 8.25572859e+07, 5.21368465e+03, ...,\n",
              "       1.16798683e+05, 1.28597312e+05, 1.11296860e+07])"
            ]
          },
          "metadata": {},
          "execution_count": 13
        }
      ]
    },
    {
      "cell_type": "code",
      "source": [
        "rfr.score(X_val,y_val)"
      ],
      "metadata": {
        "colab": {
          "base_uri": "https://localhost:8080/"
        },
        "id": "YFVTMjpF1h6S",
        "outputId": "a4a042e7-ec11-4613-df52-594eff83030f"
      },
      "execution_count": 42,
      "outputs": [
        {
          "output_type": "execute_result",
          "data": {
            "text/plain": [
              "0.7679544919856902"
            ]
          },
          "metadata": {},
          "execution_count": 42
        }
      ]
    },
    {
      "cell_type": "code",
      "source": [
        "for column in df_without_target:\n",
        "  if not df_without_target[column].isna().values.all():\n",
        "    df_without_target[column] = df_without_target[column].fillna(np.mean(df_without_target[column].dropna()))\n",
        "  else:\n",
        "    df_without_target = df_without_target.drop(columns=column)\n",
        " \n",
        "\n"
      ],
      "metadata": {
        "id": "HSMe69q8xWjg"
      },
      "execution_count": 43,
      "outputs": []
    },
    {
      "cell_type": "code",
      "source": [
        "missing_values = rfr.predict(df_without_target)"
      ],
      "metadata": {
        "colab": {
          "base_uri": "https://localhost:8080/"
        },
        "id": "XiKxRhU1xpXY",
        "outputId": "42923b2f-54b6-46c1-f6c7-a8e7b97cd4c5"
      },
      "execution_count": 36,
      "outputs": [
        {
          "output_type": "stream",
          "name": "stderr",
          "text": [
            "/usr/local/lib/python3.7/dist-packages/sklearn/base.py:444: UserWarning: X has feature names, but RandomForestRegressor was fitted without feature names\n",
            "  f\"X has feature names, but {self.__class__.__name__} was fitted without\"\n"
          ]
        }
      ]
    },
    {
      "cell_type": "code",
      "source": [
        "df_without_target['target'] = missing_values\n",
        "df_without_missing_values = df_without_target.append(df_with_target)"
      ],
      "metadata": {
        "id": "1_wfU5QFzj5M"
      },
      "execution_count": 44,
      "outputs": []
    },
    {
      "cell_type": "code",
      "source": [
        "print(df_without_missing_values)"
      ],
      "metadata": {
        "colab": {
          "base_uri": "https://localhost:8080/"
        },
        "id": "-XTlNeQ3zxji",
        "outputId": "6f635102-d871-406c-8866-fabeae5b9d6f"
      },
      "execution_count": 45,
      "outputs": [
        {
          "output_type": "stream",
          "name": "stdout",
          "text": [
            "        organization_id  ...        target\n",
            "0                  2352  ...  3.178152e+08\n",
            "1                 10113  ...  3.203622e+08\n",
            "3                  6360  ...  3.254262e+08\n",
            "4                   841  ...  3.291465e+08\n",
            "5                  9885  ...  3.211288e+08\n",
            "...                 ...  ...           ...\n",
            "101084            13820  ...  4.960000e+02\n",
            "101087             2813  ...  3.520000e+02\n",
            "101088              581  ...  4.975300e+04\n",
            "101100              365  ...  8.752500e+04\n",
            "101102             2907  ...  1.870829e+07\n",
            "\n",
            "[101106 rows x 96 columns]\n"
          ]
        }
      ]
    }
  ]
}