{
  "nbformat": 4,
  "nbformat_minor": 0,
  "metadata": {
    "colab": {
      "name": "rft_for_missing_values.ipynb",
      "provenance": [],
      "authorship_tag": "ABX9TyPoFYFZPcMu+rgrMUQR5nxa",
      "include_colab_link": true
    },
    "kernelspec": {
      "name": "python3",
      "display_name": "Python 3"
    },
    "language_info": {
      "name": "python"
    }
  },
  "cells": [
    {
      "cell_type": "markdown",
      "metadata": {
        "id": "view-in-github",
        "colab_type": "text"
      },
      "source": [
        "<a href=\"https://colab.research.google.com/github/knuffelbeer/leren_en_beslissen_public/blob/main/rft_for_missing_values.ipynb\" target=\"_parent\"><img src=\"https://colab.research.google.com/assets/colab-badge.svg\" alt=\"Open In Colab\"/></a>"
      ]
    },
    {
      "cell_type": "code",
      "execution_count": 6,
      "metadata": {
        "id": "MaG7cPetRqHS"
      },
      "outputs": [],
      "source": [
        "# Import packages\n",
        "import pandas as pd\n",
        "import numpy as np \n",
        "import matplotlib.pyplot as plt\n",
        "import sklearn\n",
        "from sklearn.neural_network import MLPRegressor\n",
        "\n",
        "# Import modules\n",
        "\n",
        "from sklearn.model_selection import train_test_split\n",
        "from sklearn.metrics import mean_squared_error\n",
        "from math import sqrt\n",
        "from sklearn.metrics import r2_score\n",
        "\n",
        "#open dataset\n",
        "df = pd.read_csv(\"20220105_company_emissions_data.csv\", sep=',')\n",
        "\n",
        "#drop irrelevant columns from dataset\n",
        "df = df.drop(columns=['WorkforceDataPoints.AsianMinoritiesEmployeesPercent',\n",
        "                       'WorkforceDataPoints.AsianMinoritiesManagersPercent', \n",
        "                      'WorkforceDataPoints.AverageEmployeeLengthOfService',\n",
        "                      'WorkforceDataPoints.AverageTrainingHours', \n",
        "                      'WorkforceDataPoints.BbbeeLevel', \n",
        "                      'WorkforceDataPoints.BlackOrAfricanAmericanMinoritiesEmployeesPercent',\n",
        "                      'WorkforceDataPoints.BlackOrAfricanAmericanMinoritiesManagersPercent',\n",
        "                      'WorkforceDataPoints.ContractorAccidents',\n",
        "                      'WorkforceDataPoints.ContractorFatalities',\n",
        "                      'WorkforceDataPoints.ContractorLostWorkingDays',\n",
        "                      'WorkforceDataPoints.DayCareServices',\n",
        "                      'WorkforceDataPoints.DiversityAndOpportunityControversies',\n",
        "                      'WorkforceDataPoints.EmployeeAccidents',\n",
        "                      'WorkforceDataPoints.EmployeeFatalities',\n",
        "                      'WorkforceDataPoints.EmployeeHealthAndSafetyTrainingHours',\n",
        "                      'WorkforceDataPoints.EmployeeLostWorkingDays',\n",
        "                      'WorkforceDataPoints.EmployeeResourceGroups',\n",
        "                      'WorkforceDataPoints.EmployeeSatisfaction',\n",
        "                      'WorkforceDataPoints.EmployeesHealthAndSafetyControversies',\n",
        "                      'WorkforceDataPoints.EmployeesHealthAndSafetyOhsas18001',\n",
        "                      'WorkforceDataPoints.EmployeesHealthAndSafetyTeam',\n",
        "                      'WorkforceDataPoints.EmployeesWithDisabilities',\n",
        "                      'WorkforceDataPoints.FlexibleWorkingHours',\n",
        "                      'WorkforceDataPoints.GenderPayGapPercentage',\n",
        "                      'WorkforceDataPoints.HealthAndSafetyTraining',\n",
        "                      'WorkforceDataPoints.HispanicOrLatinoMinoritiesEmployeesPercent',\n",
        "                      'WorkforceDataPoints.HispanicOrLatinoMinoritiesManagersPercent',\n",
        "                      'WorkforceDataPoints.HivAidsProgram',\n",
        "                      'WorkforceDataPoints.HrcCorporateEqualityIndex',\n",
        "                      'WorkforceDataPoints.HsmsCertifiedPercentage',\n",
        "                      'WorkforceDataPoints.InternalPromotion',\n",
        "                      'WorkforceDataPoints.InvoluntaryTurnoverOfEmployees',\n",
        "                      'WorkforceDataPoints.LostTimeInjuryRateContractors',\n",
        "                      'WorkforceDataPoints.LostTimeInjuryRateEmployees',\n",
        "                      'WorkforceDataPoints.LostTimeInjuryRateTotal',\n",
        "                      'WorkforceDataPoints.LostWorkingDays',\n",
        "                      'WorkforceDataPoints.ManagementDepartures',\n",
        "                      'WorkforceDataPoints.ManagementTraining',\n",
        "                      'WorkforceDataPoints.MinoritiesEmployeesPercent',\n",
        "                      'WorkforceDataPoints.MinoritiesManagersPercent',\n",
        "                      'WorkforceDataPoints.MinoritiesSalaryGapPercent',\n",
        "                      'WorkforceDataPoints.NewWomenEmployees',\n",
        "                      'WorkforceDataPoints.NumberOfEmployeesFromCsrReporting',\n",
        "                      'WorkforceDataPoints.OccupationalDiseases',\n",
        "                      'WorkforceDataPoints.OtherMinoritiesEmployeesPercent',\n",
        "                      'WorkforceDataPoints.OtherMinoritiesManagersPercent',\n",
        "                      'WorkforceDataPoints.PolicyCareerDevelopment',\n",
        "                      'WorkforceDataPoints.PolicyDiversityAndOpportunity',\n",
        "                      'WorkforceDataPoints.PolicyEmployeeHealthAndSafety',\n",
        "                      'WorkforceDataPoints.PolicySkillsTraining',\n",
        "                      'WorkforceDataPoints.PolicySupplyChainHealthAndSafety',\n",
        "                      'WorkforceDataPoints.RecentDiversityOpportunityControversies',\n",
        "                      'WorkforceDataPoints.RecentEmployeeHealthAndSafetyControversies',\n",
        "                      'WorkforceDataPoints.RecentWagesWorkingConditionControversies',\n",
        "                      'WorkforceDataPoints.SalariesAndWagesFromCsrReporting',\n",
        "                      'WorkforceDataPoints.Strikes',\n",
        "                      'WorkforceDataPoints.SupplierESGTraining',\n",
        "                      'WorkforceDataPoints.SupplyChainHealthAndSafetyImprovements',\n",
        "                      'WorkforceDataPoints.SupplyChainHealthAndSafetyTraining',\n",
        "                      'WorkforceDataPoints.TargetsDiversityAndOpportunity',\n",
        "                      'WorkforceDataPoints.TotalInjuryRateContractors',\n",
        "                      'WorkforceDataPoints.TotalInjuryRateEmployees',\n",
        "                      'WorkforceDataPoints.TotalInjuryRateTotal',\n",
        "                      'WorkforceDataPoints.TradeUnionRepresentation',\n",
        "                      'WorkforceDataPoints.TrainingCostsTotal',\n",
        "                      'WorkforceDataPoints.TrainingHoursTotal',\n",
        "                      'WorkforceDataPoints.TurnoverOfEmployees',\n",
        "                      'WorkforceDataPoints.VoluntaryTurnoverOfEmployees',\n",
        "                      'WorkforceDataPoints.WagesWorkingConditionControversiesCount',\n",
        "                      'WorkforceDataPoints.WhiteMinoritiesEmployeesPercent',\n",
        "                      'WorkforceDataPoints.WhiteMinoritiesManagersPercent',\n",
        "                      'WorkforceDataPoints.WomenEmployees',\n",
        "                      'WorkforceDataPoints.WomenManagers',\n",
        "                      'WorkforceIndicators.AnnouncedLayOffsToTotalEmployees',\n",
        "                      'WorkforceIndicators.HealthAndSafetyPolicy',\n",
        "                      'WorkforceIndicators.InjuriesToMillionHours',\n",
        "                      'WorkforceIndicators.LostDaysToTotalDays',\n",
        "                      'WorkforceIndicators.NetEmploymentCreation',\n",
        "                      'WorkforceIndicators.SalaryGap',\n",
        "                      'WorkforceIndicators.TrainingAndDevelopmentPolicy',\n",
        "                      'WorkforceIndicators.TrainingCostsPerEmployee',\n",
        "                      'WorkforceIndicators.WagesWorkingConditionControversies'],\n",
        "                      axis=1)"
      ]
    },
    {
      "cell_type": "code",
      "source": [
        "df = df.rename(columns={\"GTAP sector\": \"sector\", \"EmissionDataPoints.CO2EquivalentsEmissionDirectScope1\" :\n",
        "                                     \"target\", \"StatementDetails.FinancialPeriodFiscalYear\" : \"year\"})\n",
        "df = df._get_numeric_data()\n",
        "\n",
        "for column in df:\n",
        "  if not df[column].isna().values.all():\n",
        "    print(np.mean(df[column].dropna()))\n",
        "    df[column] = df[column].fillna(np.mean(df[column].dropna()))\n",
        "  else:\n",
        "    df = df.drop(columns=column)\n"
      ],
      "metadata": {
        "colab": {
          "base_uri": "https://localhost:8080/"
        },
        "id": "St0vjdpVRuAj",
        "outputId": "783b6bf6-325e-4a6c-8228-fbc343f64596"
      },
      "execution_count": 7,
      "outputs": [
        {
          "output_type": "stream",
          "name": "stdout",
          "text": [
            "6367.736494372243\n",
            "2013.636905821613\n",
            "0.2743061737186715\n",
            "9.504302417415614\n",
            "2446815.28264716\n",
            "0.17651948759880076\n",
            "967676.957914638\n",
            "0.6660302460280371\n",
            "0.3237607861284264\n",
            "3686681.763312953\n",
            "11168702.8738761\n",
            "668317.8799265068\n",
            "4207604.379164189\n",
            "28.88038804302854\n",
            "2023.8645031169783\n",
            "0.0838818703408425\n",
            "76.90127121637346\n",
            "12021413811.204002\n",
            "0.13400923919708924\n",
            "0.33743869209809263\n",
            "1863312322.1704426\n",
            "0.1888116653038975\n",
            "0.14399182561307902\n",
            "2028786.8466329556\n",
            "780583.7275569377\n",
            "408.6071673151752\n",
            "0.006119500626942158\n",
            "12835862.578192795\n",
            "20431.40554846195\n",
            "0.1059581891030009\n",
            "4097.553750732675\n",
            "0.04811937857726901\n",
            "0.494759195230187\n",
            "0.0008330513107541718\n",
            "14151940.443216683\n",
            "28882.228269450316\n",
            "0.1766781563781523\n",
            "0.3221935800650586\n",
            "7592.182443347035\n",
            "0.07691154627093469\n",
            "808689.61974231\n",
            "62.25588668935686\n",
            "0.49819612541352976\n",
            "10346630.070364753\n",
            "216292765.10361403\n",
            "1173646.5682309018\n",
            "0.001378497384328703\n",
            "0.26632480751057336\n",
            "141.1253196949544\n",
            "3.1428975473816014\n",
            "0.16918474942202957\n",
            "736.1580627829975\n",
            "138.70211861082282\n",
            "4.819058887745053\n",
            "502.4894099412634\n",
            "101.28403650587282\n",
            "3157.7866616300994\n",
            "0.4229905360352138\n",
            "0.20498723226848714\n",
            "0.6243735613549063\n",
            "1293.0476627688006\n",
            "43640.54417748488\n",
            "53496952.81686747\n",
            "72814903.51810773\n",
            "81549968.97754945\n",
            "1549547894.2478828\n",
            "205791497.25439578\n",
            "40103308.29378049\n",
            "1.7122302158273381\n",
            "0.2743957271711584\n",
            "0.36645827374385376\n",
            "0.9945648481554453\n",
            "0.11361530495448847\n",
            "0.36840456112148007\n",
            "0.4191852467277754\n",
            "1231413684.8257966\n",
            "0.19205722070844686\n",
            "13.575882352941177\n",
            "44291215.24662334\n",
            "0.0695741056218058\n",
            "0.5366866321807786\n",
            "0.3481097129160538\n",
            "0.12973915887595738\n",
            "0.36280799248151024\n",
            "2.0210526315789474\n",
            "16898076.768809494\n",
            "4647937.00970224\n",
            "0.3227604060222086\n",
            "0.23652814600160305\n",
            "0.14653217608882632\n",
            "27365250.87311969\n",
            "0.10910057091468982\n",
            "163165875.1792869\n",
            "925248356.1254758\n",
            "433.3650103111232\n",
            "1739.188154637212\n"
          ]
        }
      ]
    },
    {
      "cell_type": "code",
      "source": [
        "target_column = ['target'] \n",
        "predictors = list(set(list(df.columns))-set(target_column))\n",
        "df[predictors] = df[predictors]/df[predictors].max()"
      ],
      "metadata": {
        "id": "P0r7vhz-R68G"
      },
      "execution_count": 8,
      "outputs": []
    },
    {
      "cell_type": "code",
      "source": [
        "X = df[predictors].values\n",
        "y = df[target_column].values\n",
        "\n",
        "X_train, X_test, y_train, y_test = train_test_split(X, y, test_size=0.10, random_state=40)\n",
        "X_train, X_val, y_train, y_val = train_test_split(X_train, y_train, test_size = 0.10, random_state=40)\n",
        "print(X_train.shape); print(X_test.shape)"
      ],
      "metadata": {
        "colab": {
          "base_uri": "https://localhost:8080/"
        },
        "id": "IoxGNbjpR-bx",
        "outputId": "d677d96f-eb2c-4ff2-9d57-8c546bcf1ae9"
      },
      "execution_count": 9,
      "outputs": [
        {
          "output_type": "stream",
          "name": "stdout",
          "text": [
            "(81895, 95)\n",
            "(10111, 95)\n"
          ]
        }
      ]
    },
    {
      "cell_type": "code",
      "source": [
        "from sklearn.neural_network import MLPRegressor\n",
        "\n",
        "mlp = MLPRegressor(hidden_layer_sizes=(8,8,8,2), activation='relu', solver='adam', max_iter=500)\n",
        "print(y_train.shape)\n",
        "mlp.fit(X_train, y_train.ravel())\n",
        "\n",
        "\n",
        "\n",
        "mlp.predict(X_test)"
      ],
      "metadata": {
        "colab": {
          "base_uri": "https://localhost:8080/"
        },
        "id": "s4l0azhCR_VI",
        "outputId": "2614b6a0-4e6d-4317-a3cb-387fef036d0d"
      },
      "execution_count": 10,
      "outputs": [
        {
          "output_type": "stream",
          "name": "stdout",
          "text": [
            "(81895, 1)\n"
          ]
        },
        {
          "output_type": "stream",
          "name": "stderr",
          "text": [
            "/usr/local/lib/python3.7/dist-packages/sklearn/neural_network/_multilayer_perceptron.py:696: ConvergenceWarning: Stochastic Optimizer: Maximum iterations (500) reached and the optimization hasn't converged yet.\n",
            "  ConvergenceWarning,\n"
          ]
        },
        {
          "output_type": "execute_result",
          "data": {
            "text/plain": [
              "array([4121747.57450747, 3216864.11550842, 2682031.27672667, ...,\n",
              "       4450443.57970347, 3515864.6504492 , 1027050.33339185])"
            ]
          },
          "metadata": {},
          "execution_count": 10
        }
      ]
    },
    {
      "cell_type": "code",
      "source": [
        "mlp.score(X_test, y_test)"
      ],
      "metadata": {
        "colab": {
          "base_uri": "https://localhost:8080/"
        },
        "id": "tBcrAi1sSCnr",
        "outputId": "b8668feb-238c-47d4-8b7c-5113f0278101"
      },
      "execution_count": 11,
      "outputs": [
        {
          "output_type": "execute_result",
          "data": {
            "text/plain": [
              "0.5116090244117634"
            ]
          },
          "metadata": {},
          "execution_count": 11
        }
      ]
    },
    {
      "cell_type": "code",
      "source": [
        "mlp.score(X_val, y_val)"
      ],
      "metadata": {
        "colab": {
          "base_uri": "https://localhost:8080/"
        },
        "id": "Jem6yLg3TrdD",
        "outputId": "4e91ed7a-b73f-4b11-c6e5-6f3dca5da8fc"
      },
      "execution_count": 12,
      "outputs": [
        {
          "output_type": "execute_result",
          "data": {
            "text/plain": [
              "0.505542466778868"
            ]
          },
          "metadata": {},
          "execution_count": 12
        }
      ]
    },
    {
      "cell_type": "code",
      "source": [
        "from sklearn.ensemble import RandomForestRegressor\n",
        "rfr = RandomForestRegressor(n_estimators = 500, random_state = 0)\n",
        "rfr.fit(X_train, y_train.ravel())\n",
        "rfr.predict(X_test)"
      ],
      "metadata": {
        "id": "JggESXi0SGyg"
      },
      "execution_count": null,
      "outputs": []
    },
    {
      "cell_type": "code",
      "source": [
        " #from sklearn.svm import SVR\n",
        "# from sklearn.pipeline import make_pipeline\n",
        "#from sklearn.preprocessing import StandardScaler\n",
        "#regr = make_pipeline(StandardScaler(), SVR(C=1.0, epsilon=0.2))\n",
        "#regr.fit(X_test, y_test.ravel())\n",
        "rfr.score(X_test, y_test)"
      ],
      "metadata": {
        "id": "6iP1ozV2SKH7"
      },
      "execution_count": null,
      "outputs": []
    },
    {
      "cell_type": "code",
      "source": [
        "df_old = df.drop(labels = 'target', axis=1)\n",
        "print(rfr.predict(np.array(df_old.iloc[-1]).reshape(1,-1)))"
      ],
      "metadata": {
        "id": "yHKuWwTmSMWg"
      },
      "execution_count": null,
      "outputs": []
    },
    {
      "cell_type": "code",
      "source": [
        "df = pd.read_csv(\"20220105_company_emissions_data.csv\", sep=',')\n",
        "df = df.rename(columns={\"GTAP sector\": \"sector\", \"EmissionDataPoints.CO2EquivalentsEmissionDirectScope1\" :\n",
        "                                     \"target\", \"StatementDetails.FinancialPeriodFiscalYear\" : \"year\"})\n",
        "df = df._get_numeric_data()\n",
        "\n",
        "#selecteert alle rows waar de scope mist\n",
        "df_target = df[df['target'].isna()].drop(labels='target',axis=1)"
      ],
      "metadata": {
        "id": "WPeCRSvCSRB4"
      },
      "execution_count": null,
      "outputs": []
    },
    {
      "cell_type": "code",
      "source": [
        "df = df._get_numeric_data()\n",
        "\n",
        "for column in df:\n",
        "  if not df[column].isna().values.all():\n",
        "    print(np.mean(df[column].dropna()))\n",
        "    df[column] = df[column].fillna(np.mean(df[column].dropna()))\n",
        "  else:\n",
        "    df = df.drop(columns=column)"
      ],
      "metadata": {
        "id": "74xIQPlVUG_V"
      },
      "execution_count": null,
      "outputs": []
    },
    {
      "cell_type": "code",
      "source": [
        "rfr.predict(df)"
      ],
      "metadata": {
        "id": "uMzcqqnjWdD0"
      },
      "execution_count": null,
      "outputs": []
    }
  ]
}