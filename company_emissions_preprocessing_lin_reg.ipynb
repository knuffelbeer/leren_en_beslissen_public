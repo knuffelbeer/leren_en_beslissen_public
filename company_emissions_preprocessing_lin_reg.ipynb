{
  "cells": [
    {
      "cell_type": "code",
      "execution_count": 133,
      "metadata": {
        "id": "acm5tgNHjLjX"
      },
      "outputs": [],
      "source": [
        "import pandas as pd \n",
        "\n",
        "#open dataset\n",
        "df0 = pd.read_csv(\"20220105_company_emissions_data.csv\", sep=',')\n",
        "\n",
        "#drop irrelevant columns from dataset\n",
        "df1 = df0.drop(columns=['WorkforceDataPoints.AsianMinoritiesEmployeesPercent',\n",
        "                       'WorkforceDataPoints.AsianMinoritiesManagersPercent', \n",
        "                      'WorkforceDataPoints.AverageEmployeeLengthOfService',\n",
        "                      'WorkforceDataPoints.AverageTrainingHours', \n",
        "                      'WorkforceDataPoints.BbbeeLevel', \n",
        "                      'WorkforceDataPoints.BlackOrAfricanAmericanMinoritiesEmployeesPercent',\n",
        "                      'WorkforceDataPoints.BlackOrAfricanAmericanMinoritiesManagersPercent',\n",
        "                      'WorkforceDataPoints.ContractorAccidents',\n",
        "                      'WorkforceDataPoints.ContractorFatalities',\n",
        "                      'WorkforceDataPoints.ContractorLostWorkingDays',\n",
        "                      'WorkforceDataPoints.DayCareServices',\n",
        "                      'WorkforceDataPoints.DiversityAndOpportunityControversies',\n",
        "                      'WorkforceDataPoints.EmployeeAccidents',\n",
        "                      'WorkforceDataPoints.EmployeeFatalities',\n",
        "                      'WorkforceDataPoints.EmployeeHealthAndSafetyTrainingHours',\n",
        "                      'WorkforceDataPoints.EmployeeLostWorkingDays',\n",
        "                      'WorkforceDataPoints.EmployeeResourceGroups',\n",
        "                      'WorkforceDataPoints.EmployeeSatisfaction',\n",
        "                      'WorkforceDataPoints.EmployeesHealthAndSafetyControversies',\n",
        "                      'WorkforceDataPoints.EmployeesHealthAndSafetyOhsas18001',\n",
        "                      'WorkforceDataPoints.EmployeesHealthAndSafetyTeam',\n",
        "                      'WorkforceDataPoints.EmployeesWithDisabilities',\n",
        "                      'WorkforceDataPoints.FlexibleWorkingHours',\n",
        "                      'WorkforceDataPoints.GenderPayGapPercentage',\n",
        "                      'WorkforceDataPoints.HealthAndSafetyTraining',\n",
        "                      'WorkforceDataPoints.HispanicOrLatinoMinoritiesEmployeesPercent',\n",
        "                      'WorkforceDataPoints.HispanicOrLatinoMinoritiesManagersPercent',\n",
        "                      'WorkforceDataPoints.HivAidsProgram',\n",
        "                      'WorkforceDataPoints.HrcCorporateEqualityIndex',\n",
        "                      'WorkforceDataPoints.HsmsCertifiedPercentage',\n",
        "                      'WorkforceDataPoints.InternalPromotion',\n",
        "                      'WorkforceDataPoints.InvoluntaryTurnoverOfEmployees',\n",
        "                      'WorkforceDataPoints.LostTimeInjuryRateContractors',\n",
        "                      'WorkforceDataPoints.LostTimeInjuryRateEmployees',\n",
        "                      'WorkforceDataPoints.LostTimeInjuryRateTotal',\n",
        "                      'WorkforceDataPoints.LostWorkingDays',\n",
        "                      'WorkforceDataPoints.ManagementDepartures',\n",
        "                      'WorkforceDataPoints.ManagementTraining',\n",
        "                      'WorkforceDataPoints.MinoritiesEmployeesPercent',\n",
        "                      'WorkforceDataPoints.MinoritiesManagersPercent',\n",
        "                      'WorkforceDataPoints.MinoritiesSalaryGapPercent',\n",
        "                      'WorkforceDataPoints.NewWomenEmployees',\n",
        "                      'WorkforceDataPoints.NumberOfEmployeesFromCsrReporting',\n",
        "                      'WorkforceDataPoints.OccupationalDiseases',\n",
        "                      'WorkforceDataPoints.OtherMinoritiesEmployeesPercent',\n",
        "                      'WorkforceDataPoints.OtherMinoritiesManagersPercent',\n",
        "                      'WorkforceDataPoints.PolicyCareerDevelopment',\n",
        "                      'WorkforceDataPoints.PolicyDiversityAndOpportunity',\n",
        "                      'WorkforceDataPoints.PolicyEmployeeHealthAndSafety',\n",
        "                      'WorkforceDataPoints.PolicySkillsTraining',\n",
        "                      'WorkforceDataPoints.PolicySupplyChainHealthAndSafety',\n",
        "                      'WorkforceDataPoints.RecentDiversityOpportunityControversies',\n",
        "                      'WorkforceDataPoints.RecentEmployeeHealthAndSafetyControversies',\n",
        "                      'WorkforceDataPoints.RecentWagesWorkingConditionControversies',\n",
        "                      'WorkforceDataPoints.SalariesAndWagesFromCsrReporting',\n",
        "                      'WorkforceDataPoints.Strikes',\n",
        "                      'WorkforceDataPoints.SupplierESGTraining',\n",
        "                      'WorkforceDataPoints.SupplyChainHealthAndSafetyImprovements',\n",
        "                      'WorkforceDataPoints.SupplyChainHealthAndSafetyTraining',\n",
        "                      'WorkforceDataPoints.TargetsDiversityAndOpportunity',\n",
        "                      'WorkforceDataPoints.TotalInjuryRateContractors',\n",
        "                      'WorkforceDataPoints.TotalInjuryRateEmployees',\n",
        "                      'WorkforceDataPoints.TotalInjuryRateTotal',\n",
        "                      'WorkforceDataPoints.TradeUnionRepresentation',\n",
        "                      'WorkforceDataPoints.TrainingCostsTotal',\n",
        "                      'WorkforceDataPoints.TrainingHoursTotal',\n",
        "                      'WorkforceDataPoints.TurnoverOfEmployees',\n",
        "                      'WorkforceDataPoints.VoluntaryTurnoverOfEmployees',\n",
        "                      'WorkforceDataPoints.WagesWorkingConditionControversiesCount',\n",
        "                      'WorkforceDataPoints.WhiteMinoritiesEmployeesPercent',\n",
        "                      'WorkforceDataPoints.WhiteMinoritiesManagersPercent',\n",
        "                      'WorkforceDataPoints.WomenEmployees',\n",
        "                      'WorkforceDataPoints.WomenManagers',\n",
        "                      'WorkforceIndicators.AnnouncedLayOffsToTotalEmployees',\n",
        "                      'WorkforceIndicators.HealthAndSafetyPolicy',\n",
        "                      'WorkforceIndicators.InjuriesToMillionHours',\n",
        "                      'WorkforceIndicators.LostDaysToTotalDays',\n",
        "                      'WorkforceIndicators.NetEmploymentCreation',\n",
        "                      'WorkforceIndicators.SalaryGap',\n",
        "                      'WorkforceIndicators.TrainingAndDevelopmentPolicy',\n",
        "                      'WorkforceIndicators.TrainingCostsPerEmployee',\n",
        "                      'WorkforceIndicators.WagesWorkingConditionControversies'],\n",
        "                      axis=1)\n",
        "    \n",
        "#number of columns in (cleaned) dataset\n",
        "len(df0.columns)\n",
        "len(df1.columns)\n",
        "\n",
        "df1.sort_values(['GTAP sector'], ascending=[True], inplace=True)\n",
        "\n",
        "#save cleaned dataset as new file\n",
        "df = df1.to_csv('company_emissions_cleaned.csv', index=True)"
      ]
    },
    {
      "cell_type": "code",
      "execution_count": 134,
      "metadata": {
        "id": "YUBXvOTbQpdT",
        "outputId": "be6cd2a1-64d6-4139-d60d-b8500d374a68",
        "colab": {
          "base_uri": "https://localhost:8080/",
          "height": 943
        }
      },
      "outputs": [
        {
          "output_type": "execute_result",
          "data": {
            "text/plain": [
              "2019    3068\n",
              "2018    2907\n",
              "2017    2509\n",
              "2016    2190\n",
              "2015    1984\n",
              "2014    1748\n",
              "2012    1720\n",
              "2013    1682\n",
              "2011    1601\n",
              "2010    1488\n",
              "2009    1147\n",
              "2020     688\n",
              "2008     669\n",
              "2007     548\n",
              "2006     488\n",
              "2005     331\n",
              "2004     156\n",
              "2003      95\n",
              "2002      67\n",
              "Name: StatementDetails.FinancialPeriodFiscalYear, dtype: int64"
            ]
          },
          "metadata": {},
          "execution_count": 134
        },
        {
          "output_type": "display_data",
          "data": {
            "image/png": "[encoded data removed]",
            "text/plain": [
              "<Figure size 432x288 with 1 Axes>"
            ]
          },
          "metadata": {
            "needs_background": "light"
          }
        },
        {
          "output_type": "display_data",
          "data": {
            "image/png": "[encoded data removed]",
            "text/plain": [
              "<Figure size 432x288 with 1 Axes>"
            ]
          },
          "metadata": {
            "needs_background": "light"
          }
        }
      ],
      "source": [
        "#drop rows with no data in either the year or target collumn\n",
        "df2 = df1.dropna(subset=['EmissionDataPoints.CO2EquivalentsEmissionDirectScope1', 'StatementDetails.FinancialPeriodFiscalYear'])\n",
        "\n",
        "#Make all data numeric\n",
        "df2_numeric = df2.apply(pd.to_numeric, args=('coerce',))\n",
        "\n",
        "#group data by year and calculate target mean for each year \n",
        "df2_grouped_by_year = df2_numeric.groupby('StatementDetails.FinancialPeriodFiscalYear').mean().apply(pd.to_numeric, args=('coerce',))\n",
        "\n",
        "df2_grouped_by_year.reset_index().plot(x = 'StatementDetails.FinancialPeriodFiscalYear' ,y = 'EmissionDataPoints.CO2EquivalentsEmissionDirectScope1')\n",
        "\n",
        "df2_numeric.plot.scatter(x='EmissionDataPoints.AnalyticEstimatesCO2EquivalentsEmissionTotal', y = 'EmissionDataPoints.CO2EquivalentsEmissionDirectScope1')\n",
        "\n",
        "df2['StatementDetails.FinancialPeriodFiscalYear'].value_counts()"
      ]
    },
    {
      "cell_type": "code",
      "execution_count": 135,
      "metadata": {
        "id": "dkTZePCSQpdU",
        "outputId": "a0efa480-53c5-4460-81a8-d5900588cf23",
        "colab": {
          "base_uri": "https://localhost:8080/",
          "height": 121
        }
      },
      "outputs": [
        {
          "output_type": "display_data",
          "data": {
            "text/plain": [
              "EmissionDataPoints.AnalyticEstimatesCO2EquivalentsEmissionTotal    0.981030\n",
              "EmissionDataPoints.CO2EquivalentsEmissionDirectScope1              1.000000\n",
              "EmissionDataPoints.CO2EquivalentsEmissionTotal                     0.985258\n",
              "EmissionDataPoints.FlaringGases                                    0.641745\n",
              "EmissionDataPoints.VocEmissions                                    0.579600\n",
              "Name: EmissionDataPoints.CO2EquivalentsEmissionDirectScope1, dtype: float64"
            ]
          },
          "metadata": {}
        }
      ],
      "source": [
        "#Keep only numeric values for correlation calculations\n",
        "df_full = df2.apply(pd.to_numeric, args=('coerce',))\n",
        "df_full2 = df_full.select_dtypes(['number'])\n",
        "\n",
        "#calculate correlations\n",
        "cor = df_full2.corr()\n",
        "cor_target = abs(cor['EmissionDataPoints.CO2EquivalentsEmissionDirectScope1'])\n",
        "\n",
        "#display Correlation values for features with a useable correlation\n",
        "features = cor_target[cor_target > 0.5]\n",
        "display(features)"
      ]
    },
    {
      "cell_type": "code",
      "execution_count": 136,
      "metadata": {
        "id": "uPjOaCyyQpdV",
        "outputId": "37804f05-d42d-4112-b4f6-8e86332dd2de",
        "colab": {
          "base_uri": "https://localhost:8080/"
        }
      },
      "outputs": [
        {
          "output_type": "stream",
          "name": "stdout",
          "text": [
            "51\n",
            "Financial services nec                        2498\n",
            "Computer, electronic and optical products     1568\n",
            "Trade                                         1335\n",
            "Electricity                                   1243\n",
            "Real estate activities                        1037\n",
            "Construction                                   932\n",
            "Insurance                                      847\n",
            "Communication                                  801\n",
            "Chemical products                              787\n",
            "Business services nec                          776\n",
            "Other Extraction                               685\n",
            "Basic pharmaceutical products                  667\n",
            "Machinery and equipment nec                    564\n",
            "Petroleum, coal products                       485\n",
            "Bovine cattle, sheep and goats, horses         478\n",
            "Gas                                            417\n",
            "Transport nec                                  379\n",
            "Motor vehicles and parts                       350\n",
            "Fishing                                        343\n",
            "Mineral products nec                           342\n",
            "Beverages and tobacco products                 332\n",
            "Warehousing and support activities             314\n",
            "Air transport                                  284\n",
            "Accommodation, Food and service activities     264\n",
            "Electrical equipment                           261\n",
            "Manufactures nec                               244\n",
            "Metal products                                 240\n",
            "Transport equipment nec                        240\n",
            "Rubber and plastic products                    235\n",
            "Animal products nec                            212\n",
            "Water transport                                194\n",
            "Oil                                            194\n",
            "Recreational and other services                143\n",
            "Vegetables, fruit, nuts                        136\n",
            "Human health and social work activities        131\n",
            "Water                                          121\n",
            "Food products nec                              119\n",
            "Ferrous metals                                 113\n",
            "Sugar cane, sugar beet                         108\n",
            "Coal                                            96\n",
            "None                                            77\n",
            "Wood products                                   65\n",
            "Textiles                                        50\n",
            "Processed rice                                  43\n",
            "Education                                       26\n",
            "Wheat                                           24\n",
            "Metals nec                                      15\n",
            "Paper products, publishing                      11\n",
            "Forestry                                        10\n",
            "Wearing apparel                                  7\n",
            "Crops nec                                        3\n",
            "Name: sector, dtype: int64\n",
            "Mean of target by sector\n",
            "sector\n",
            "Accommodation, Food and service activities    1.819208e+05\n",
            "Air transport                                 1.628482e+07\n",
            "Animal products nec                           6.770814e+05\n",
            "Basic pharmaceutical products                 3.694040e+05\n",
            "Beverages and tobacco products                1.397307e+06\n",
            "Bovine cattle, sheep and goats, horses        2.610064e+06\n",
            "Business services nec                         6.972032e+05\n",
            "Chemical products                             2.163666e+06\n",
            "Coal                                          9.600965e+06\n",
            "Communication                                 6.335403e+05\n",
            "Computer, electronic and optical products     2.533910e+05\n",
            "Construction                                  8.307964e+05\n",
            "Crops nec                                     2.181200e+02\n",
            "Education                                     4.794364e+03\n",
            "Electrical equipment                          1.497616e+05\n",
            "Electricity                                   2.684252e+07\n",
            "Ferrous metals                                3.898346e+07\n",
            "Financial services nec                        2.889718e+04\n",
            "Fishing                                       2.268643e+06\n",
            "Food products nec                             3.965489e+05\n",
            "Forestry                                      1.797680e+04\n",
            "Gas                                           1.062092e+05\n",
            "Human health and social work activities       5.142370e+04\n",
            "Insurance                                     1.497186e+04\n",
            "Machinery and equipment nec                   8.950070e+05\n",
            "Manufactures nec                              6.513451e+04\n",
            "Metal products                                2.079390e+05\n",
            "Metals nec                                    8.727066e+04\n",
            "Mineral products nec                          1.836948e+07\n",
            "Motor vehicles and parts                      6.954414e+05\n",
            "None                                          2.312737e+05\n",
            "Oil                                           8.924444e+05\n",
            "Other Extraction                              3.273336e+06\n",
            "Paper products, publishing                    2.657859e+05\n",
            "Petroleum, coal products                      2.525074e+07\n",
            "Processed rice                                5.716155e+05\n",
            "Real estate activities                        6.909662e+04\n",
            "Recreational and other services               4.458361e+04\n",
            "Rubber and plastic products                   3.759223e+05\n",
            "Sugar cane, sugar beet                        4.497949e+05\n",
            "Textiles                                      4.485342e+05\n",
            "Trade                                         1.558629e+06\n",
            "Transport equipment nec                       2.154132e+05\n",
            "Transport nec                                 2.886065e+06\n",
            "Vegetables, fruit, nuts                       4.649976e+05\n",
            "Warehousing and support activities            1.491628e+05\n",
            "Water                                         8.861137e+06\n",
            "Water transport                               8.956583e+06\n",
            "Wearing apparel                               9.772429e+03\n",
            "Wheat                                         2.992001e+05\n",
            "Wood products                                 5.575684e+05\n",
            "Name: EmissionDataPoints.CO2EquivalentsEmissionDirectScope1, dtype: float64\n"
          ]
        }
      ],
      "source": [
        "#Remove the rows with null as given sector and print amount of sectors, and businesses per sector\n",
        "df2_rename = df2.rename(columns={\"GTAP sector\": \"sector\"})\n",
        "df2_sector_clean = df2_rename[df2_rename.sector != \"Null\"]\n",
        "print(df2_sector_clean['sector'].nunique())\n",
        "print(df2_sector_clean['sector'].value_counts())\n",
        "\n",
        "#calculate mean of target per sector and print all of them\n",
        "df2_grouped_by_sector = df2_sector_clean.groupby('sector').mean().apply(pd.to_numeric, args=('coerce',))\n",
        "print(\"Mean of target by sector\")\n",
        "print(df2_grouped_by_sector['EmissionDataPoints.CO2EquivalentsEmissionDirectScope1'])"
      ]
    },
    {
      "cell_type": "code",
      "execution_count": 137,
      "metadata": {
        "id": "5w3pNmJUQpdW",
        "outputId": "503e1cab-2fa1-4ced-8671-f2854c7cd035",
        "colab": {
          "base_uri": "https://localhost:8080/"
        }
      },
      "outputs": [
        {
          "output_type": "execute_result",
          "data": {
            "text/plain": [
              "array([[-597496.22799027]])"
            ]
          },
          "metadata": {},
          "execution_count": 137
        }
      ],
      "source": [
        "from sklearn import linear_model\n",
        "\n",
        "#Hernoemt de columns omdat de '.' in de namen voor problemen zorgt\n",
        "df1 = df1.rename(columns={'EmissionDataPoints.CO2EquivalentsEmissionDirectScope1': 'scope', 'StatementDetails.FinancialPeriodFiscalYear': \"year\"})\n",
        "\n",
        "#Verwijdert de NaN's\n",
        "df1 = df1.dropna(subset=['scope', 'year']) \n",
        "\n",
        "#sorteert per jaar en neemt dan de som van elk jaar. Zodat je dan één lijn krijgt\n",
        "df1 = df1.groupby('year').mean().reset_index()\n",
        "\n",
        "#maakt array van de column\n",
        "y = df1.scope.values\n",
        "x = df1.year.values\n",
        "\n",
        "#iets van stack-overvlow zodat de dimensies kloppen voor de lineaire regressie.\n",
        "#Als iets niet helemaal klopt in de resultaten zou het hiermee te maken kunnen \n",
        "#hebben, want ik snap niet precies wat hier gebeurt\n",
        "length = len(df1) \n",
        "x = x.reshape(length, 1)   \n",
        "y = y.reshape(length, 1)\n",
        "\n",
        "#stukkie sklearn\n",
        "reg = linear_model.LinearRegression()\n",
        "reg = reg.fit(x,y)\n",
        "\n",
        "#richtingscoëfficiënt\n",
        "reg.coef_\n"
      ]
    },
    {
      "cell_type": "code",
      "source": [
        "import matplotlib.pyplot as plt"
      ],
      "metadata": {
        "id": "bvD6Q498EnNM"
      },
      "execution_count": 138,
      "outputs": []
    },
    {
      "cell_type": "code",
      "source": [
        "#plot de grafiek voor de lineaire regressie\n",
        "plt.plot(x,y)\n",
        "plt.plot(x, reg.predict(x), color='red', linewidth=3)\n",
        "plt.show()"
      ],
      "metadata": {
        "colab": {
          "base_uri": "https://localhost:8080/",
          "height": 276
        },
        "id": "y2skEO8o_jBm",
        "outputId": "58e409bb-613c-419f-fa72-820010160227"
      },
      "execution_count": 139,
      "outputs": [
        {
          "output_type": "display_data",
          "data": {
            "image/png": "[encoded data removed]",
            "text/plain": [
              "<Figure size 432x288 with 1 Axes>"
            ]
          },
          "metadata": {
            "needs_background": "light"
          }
        }
      ]
    }
  ],
  "metadata": {
    "colab": {
      "collapsed_sections": [],
      "name": "company_emissions_preprocessing.ipynb",
      "provenance": []
    },
    "kernelspec": {
      "display_name": "Python 3",
      "language": "python",
      "name": "python3"
    },
    "language_info": {
      "codemirror_mode": {
        "name": "ipython",
        "version": 3
      },
      "file_extension": ".py",
      "mimetype": "text/x-python",
      "name": "python",
      "nbconvert_exporter": "python",
      "pygments_lexer": "ipython3",
      "version": "3.8.10"
    }
  },
  "nbformat": 4,
  "nbformat_minor": 0
}