{
  "nbformat": 4,
  "nbformat_minor": 0,
  "metadata": {
    "colab": {
      "name": "emission_prediction_Neural_Network.ipynb",
      "provenance": [],
      "authorship_tag": "ABX9TyOx2VUmBI3vqmNuiEvEajQP",
      "include_colab_link": true
    },
    "kernelspec": {
      "name": "python3",
      "display_name": "Python 3"
    },
    "language_info": {
      "name": "python"
    }
  },
  "cells": [
    {
      "cell_type": "markdown",
      "metadata": {
        "id": "view-in-github",
        "colab_type": "text"
      },
      "source": [
        "<a href=\"https://colab.research.google.com/github/knuffelbeer/leren_en_beslissen_public/blob/main/emission_prediction_Neural_Network.ipynb\" target=\"_parent\"><img src=\"https://colab.research.google.com/assets/colab-badge.svg\" alt=\"Open In Colab\"/></a>"
      ]
    },
    {
      "cell_type": "code",
      "execution_count": 97,
      "metadata": {
        "id": "KKZ3pU0syxkb"
      },
      "outputs": [],
      "source": [
        "# Import packages\n",
        "import pandas as pd\n",
        "import numpy as np \n",
        "import matplotlib.pyplot as plt\n",
        "import sklearn\n",
        "from sklearn.neural_network import MLPRegressor\n",
        "\n",
        "# Import modules\n",
        "\n",
        "from sklearn.model_selection import train_test_split\n",
        "from sklearn.metrics import mean_squared_error\n",
        "from math import sqrt\n",
        "from sklearn.metrics import r2_score\n",
        "\n",
        "#open dataset\n",
        "df = pd.read_csv(\"20220105_company_emissions_data.csv\", sep=',')\n",
        "\n",
        "#drop irrelevant columns from dataset\n",
        "df = df.drop(columns=['WorkforceDataPoints.AsianMinoritiesEmployeesPercent',\n",
        "                       'WorkforceDataPoints.AsianMinoritiesManagersPercent', \n",
        "                      'WorkforceDataPoints.AverageEmployeeLengthOfService',\n",
        "                      'WorkforceDataPoints.AverageTrainingHours', \n",
        "                      'WorkforceDataPoints.BbbeeLevel', \n",
        "                      'WorkforceDataPoints.BlackOrAfricanAmericanMinoritiesEmployeesPercent',\n",
        "                      'WorkforceDataPoints.BlackOrAfricanAmericanMinoritiesManagersPercent',\n",
        "                      'WorkforceDataPoints.ContractorAccidents',\n",
        "                      'WorkforceDataPoints.ContractorFatalities',\n",
        "                      'WorkforceDataPoints.ContractorLostWorkingDays',\n",
        "                      'WorkforceDataPoints.DayCareServices',\n",
        "                      'WorkforceDataPoints.DiversityAndOpportunityControversies',\n",
        "                      'WorkforceDataPoints.EmployeeAccidents',\n",
        "                      'WorkforceDataPoints.EmployeeFatalities',\n",
        "                      'WorkforceDataPoints.EmployeeHealthAndSafetyTrainingHours',\n",
        "                      'WorkforceDataPoints.EmployeeLostWorkingDays',\n",
        "                      'WorkforceDataPoints.EmployeeResourceGroups',\n",
        "                      'WorkforceDataPoints.EmployeeSatisfaction',\n",
        "                      'WorkforceDataPoints.EmployeesHealthAndSafetyControversies',\n",
        "                      'WorkforceDataPoints.EmployeesHealthAndSafetyOhsas18001',\n",
        "                      'WorkforceDataPoints.EmployeesHealthAndSafetyTeam',\n",
        "                      'WorkforceDataPoints.EmployeesWithDisabilities',\n",
        "                      'WorkforceDataPoints.FlexibleWorkingHours',\n",
        "                      'WorkforceDataPoints.GenderPayGapPercentage',\n",
        "                      'WorkforceDataPoints.HealthAndSafetyTraining',\n",
        "                      'WorkforceDataPoints.HispanicOrLatinoMinoritiesEmployeesPercent',\n",
        "                      'WorkforceDataPoints.HispanicOrLatinoMinoritiesManagersPercent',\n",
        "                      'WorkforceDataPoints.HivAidsProgram',\n",
        "                      'WorkforceDataPoints.HrcCorporateEqualityIndex',\n",
        "                      'WorkforceDataPoints.HsmsCertifiedPercentage',\n",
        "                      'WorkforceDataPoints.InternalPromotion',\n",
        "                      'WorkforceDataPoints.InvoluntaryTurnoverOfEmployees',\n",
        "                      'WorkforceDataPoints.LostTimeInjuryRateContractors',\n",
        "                      'WorkforceDataPoints.LostTimeInjuryRateEmployees',\n",
        "                      'WorkforceDataPoints.LostTimeInjuryRateTotal',\n",
        "                      'WorkforceDataPoints.LostWorkingDays',\n",
        "                      'WorkforceDataPoints.ManagementDepartures',\n",
        "                      'WorkforceDataPoints.ManagementTraining',\n",
        "                      'WorkforceDataPoints.MinoritiesEmployeesPercent',\n",
        "                      'WorkforceDataPoints.MinoritiesManagersPercent',\n",
        "                      'WorkforceDataPoints.MinoritiesSalaryGapPercent',\n",
        "                      'WorkforceDataPoints.NewWomenEmployees',\n",
        "                      'WorkforceDataPoints.NumberOfEmployeesFromCsrReporting',\n",
        "                      'WorkforceDataPoints.OccupationalDiseases',\n",
        "                      'WorkforceDataPoints.OtherMinoritiesEmployeesPercent',\n",
        "                      'WorkforceDataPoints.OtherMinoritiesManagersPercent',\n",
        "                      'WorkforceDataPoints.PolicyCareerDevelopment',\n",
        "                      'WorkforceDataPoints.PolicyDiversityAndOpportunity',\n",
        "                      'WorkforceDataPoints.PolicyEmployeeHealthAndSafety',\n",
        "                      'WorkforceDataPoints.PolicySkillsTraining',\n",
        "                      'WorkforceDataPoints.PolicySupplyChainHealthAndSafety',\n",
        "                      'WorkforceDataPoints.RecentDiversityOpportunityControversies',\n",
        "                      'WorkforceDataPoints.RecentEmployeeHealthAndSafetyControversies',\n",
        "                      'WorkforceDataPoints.RecentWagesWorkingConditionControversies',\n",
        "                      'WorkforceDataPoints.SalariesAndWagesFromCsrReporting',\n",
        "                      'WorkforceDataPoints.Strikes',\n",
        "                      'WorkforceDataPoints.SupplierESGTraining',\n",
        "                      'WorkforceDataPoints.SupplyChainHealthAndSafetyImprovements',\n",
        "                      'WorkforceDataPoints.SupplyChainHealthAndSafetyTraining',\n",
        "                      'WorkforceDataPoints.TargetsDiversityAndOpportunity',\n",
        "                      'WorkforceDataPoints.TotalInjuryRateContractors',\n",
        "                      'WorkforceDataPoints.TotalInjuryRateEmployees',\n",
        "                      'WorkforceDataPoints.TotalInjuryRateTotal',\n",
        "                      'WorkforceDataPoints.TradeUnionRepresentation',\n",
        "                      'WorkforceDataPoints.TrainingCostsTotal',\n",
        "                      'WorkforceDataPoints.TrainingHoursTotal',\n",
        "                      'WorkforceDataPoints.TurnoverOfEmployees',\n",
        "                      'WorkforceDataPoints.VoluntaryTurnoverOfEmployees',\n",
        "                      'WorkforceDataPoints.WagesWorkingConditionControversiesCount',\n",
        "                      'WorkforceDataPoints.WhiteMinoritiesEmployeesPercent',\n",
        "                      'WorkforceDataPoints.WhiteMinoritiesManagersPercent',\n",
        "                      'WorkforceDataPoints.WomenEmployees',\n",
        "                      'WorkforceDataPoints.WomenManagers',\n",
        "                      'WorkforceIndicators.AnnouncedLayOffsToTotalEmployees',\n",
        "                      'WorkforceIndicators.HealthAndSafetyPolicy',\n",
        "                      'WorkforceIndicators.InjuriesToMillionHours',\n",
        "                      'WorkforceIndicators.LostDaysToTotalDays',\n",
        "                      'WorkforceIndicators.NetEmploymentCreation',\n",
        "                      'WorkforceIndicators.SalaryGap',\n",
        "                      'WorkforceIndicators.TrainingAndDevelopmentPolicy',\n",
        "                      'WorkforceIndicators.TrainingCostsPerEmployee',\n",
        "                      'WorkforceIndicators.WagesWorkingConditionControversies'],\n",
        "                      axis=1)"
      ]
    },
    {
      "cell_type": "code",
      "source": [
        "df = df.rename(columns={\"GTAP sector\": \"sector\", \"EmissionDataPoints.CO2EquivalentsEmissionDirectScope1\" :\n",
        "                                     \"target\", \"StatementDetails.FinancialPeriodFiscalYear\" : \"year\"})\n",
        "df = df._get_numeric_data()\n",
        "\n",
        "for column in df:\n",
        "  if not df[column].isna().values.all():\n",
        "    print(np.mean(df[column].dropna()))\n",
        "    df[column] = df[column].fillna(np.mean(df[column].dropna()))\n",
        "  else:\n",
        "    df = df.drop(columns=column)\n"
      ],
      "metadata": {
        "colab": {
          "base_uri": "https://localhost:8080/"
        },
        "id": "zAkx1j6_zA_0",
        "outputId": "9208d626-3306-4bc8-b691-0e427f0d36cd"
      },
      "execution_count": 98,
      "outputs": [
        {
          "output_type": "stream",
          "name": "stdout",
          "text": [
            "6367.736494372243\n",
            "2013.636905821613\n",
            "0.2743061737186715\n",
            "9.504302417415614\n",
            "2446815.28264716\n",
            "0.17651948759880076\n",
            "967676.957914638\n",
            "0.6660302460280371\n",
            "0.3237607861284264\n",
            "3686681.763312953\n",
            "11168702.8738761\n",
            "668317.8799265068\n",
            "4207604.379164189\n",
            "28.88038804302854\n",
            "2023.8645031169783\n",
            "0.0838818703408425\n",
            "76.90127121637346\n",
            "12021413811.204002\n",
            "0.13400923919708924\n",
            "0.33743869209809263\n",
            "1863312322.1704426\n",
            "0.1888116653038975\n",
            "0.14399182561307902\n",
            "2028786.8466329556\n",
            "780583.7275569377\n",
            "408.6071673151752\n",
            "0.006119500626942158\n",
            "12835862.578192795\n",
            "20431.40554846195\n",
            "0.1059581891030009\n",
            "4097.553750732675\n",
            "0.04811937857726901\n",
            "0.494759195230187\n",
            "0.0008330513107541718\n",
            "14151940.443216683\n",
            "28882.228269450316\n",
            "0.1766781563781523\n",
            "0.3221935800650586\n",
            "7592.182443347035\n",
            "0.07691154627093469\n",
            "808689.61974231\n",
            "62.25588668935686\n",
            "0.49819612541352976\n",
            "10346630.070364753\n",
            "216292765.10361403\n",
            "1173646.5682309018\n",
            "0.001378497384328703\n",
            "0.26632480751057336\n",
            "141.1253196949544\n",
            "3.1428975473816014\n",
            "0.16918474942202957\n",
            "736.1580627829975\n",
            "138.70211861082282\n",
            "4.819058887745053\n",
            "502.4894099412634\n",
            "101.28403650587282\n",
            "3157.7866616300994\n",
            "0.4229905360352138\n",
            "0.20498723226848714\n",
            "0.6243735613549063\n",
            "1293.0476627688006\n",
            "43640.54417748488\n",
            "53496952.81686747\n",
            "72814903.51810773\n",
            "81549968.97754945\n",
            "1549547894.2478828\n",
            "205791497.25439578\n",
            "40103308.29378049\n",
            "1.7122302158273381\n",
            "0.2743957271711584\n",
            "0.36645827374385376\n",
            "0.9945648481554453\n",
            "0.11361530495448847\n",
            "0.36840456112148007\n",
            "0.4191852467277754\n",
            "1231413684.8257966\n",
            "0.19205722070844686\n",
            "13.575882352941177\n",
            "44291215.24662334\n",
            "0.0695741056218058\n",
            "0.5366866321807786\n",
            "0.3481097129160538\n",
            "0.12973915887595738\n",
            "0.36280799248151024\n",
            "2.0210526315789474\n",
            "16898076.768809494\n",
            "4647937.00970224\n",
            "0.3227604060222086\n",
            "0.23652814600160305\n",
            "0.14653217608882632\n",
            "27365250.87311969\n",
            "0.10910057091468982\n",
            "163165875.1792869\n",
            "925248356.1254758\n",
            "433.3650103111232\n",
            "1739.188154637212\n"
          ]
        }
      ]
    },
    {
      "cell_type": "code",
      "source": [
        "df = df.groupby('year').mean()\n",
        "\n",
        "print(df['target'], df.index)"
      ],
      "metadata": {
        "colab": {
          "base_uri": "https://localhost:8080/"
        },
        "id": "B_DOFc5wztSj",
        "outputId": "66ad1d84-4bc8-4d76-d79b-36f4d2818a51"
      },
      "execution_count": 99,
      "outputs": [
        {
          "output_type": "stream",
          "name": "stdout",
          "text": [
            "year\n",
            "2002    4.331653e+06\n",
            "2003    4.431789e+06\n",
            "2004    4.084491e+06\n",
            "2005    5.935079e+06\n",
            "2006    4.399884e+06\n",
            "2007    4.212509e+06\n",
            "2008    4.190103e+06\n",
            "2009    3.936829e+06\n",
            "2010    3.790435e+06\n",
            "2011    3.684633e+06\n",
            "2012    3.599837e+06\n",
            "2013    3.556721e+06\n",
            "2014    3.566313e+06\n",
            "2015    3.501114e+06\n",
            "2016    3.550045e+06\n",
            "2017    3.514834e+06\n",
            "2018    3.444615e+06\n",
            "2019    3.305644e+06\n",
            "2020    3.487721e+06\n",
            "Name: target, dtype: float64 Int64Index([2002, 2003, 2004, 2005, 2006, 2007, 2008, 2009, 2010, 2011, 2012,\n",
            "            2013, 2014, 2015, 2016, 2017, 2018, 2019, 2020],\n",
            "           dtype='int64', name='year')\n"
          ]
        }
      ]
    },
    {
      "cell_type": "code",
      "source": [
        "\n",
        "print(df['target'],df.index)"
      ],
      "metadata": {
        "colab": {
          "base_uri": "https://localhost:8080/"
        },
        "id": "TQuma9A9_3v6",
        "outputId": "1d555778-7912-40d8-c9c2-e0ed9ad5807a"
      },
      "execution_count": 100,
      "outputs": [
        {
          "output_type": "stream",
          "name": "stdout",
          "text": [
            "year\n",
            "2002    4.331653e+06\n",
            "2003    4.431789e+06\n",
            "2004    4.084491e+06\n",
            "2005    5.935079e+06\n",
            "2006    4.399884e+06\n",
            "2007    4.212509e+06\n",
            "2008    4.190103e+06\n",
            "2009    3.936829e+06\n",
            "2010    3.790435e+06\n",
            "2011    3.684633e+06\n",
            "2012    3.599837e+06\n",
            "2013    3.556721e+06\n",
            "2014    3.566313e+06\n",
            "2015    3.501114e+06\n",
            "2016    3.550045e+06\n",
            "2017    3.514834e+06\n",
            "2018    3.444615e+06\n",
            "2019    3.305644e+06\n",
            "2020    3.487721e+06\n",
            "Name: target, dtype: float64 Int64Index([2002, 2003, 2004, 2005, 2006, 2007, 2008, 2009, 2010, 2011, 2012,\n",
            "            2013, 2014, 2015, 2016, 2017, 2018, 2019, 2020],\n",
            "           dtype='int64', name='year')\n"
          ]
        }
      ]
    },
    {
      "cell_type": "code",
      "source": [
        "df['target'] = df['target'].shift(-1)\n",
        "df_with_last_year = df\n",
        "df = df.drop(labels = 2020, axis=0)\n",
        "print(df['target'], df.index)\n",
        "print(year_2020)"
      ],
      "metadata": {
        "colab": {
          "base_uri": "https://localhost:8080/"
        },
        "id": "NoKzpqwjA-9i",
        "outputId": "de5dcba2-a041-4e68-90f4-bd0599b22ec0"
      },
      "execution_count": 101,
      "outputs": [
        {
          "output_type": "stream",
          "name": "stdout",
          "text": [
            "year\n",
            "2002    4.431789e+06\n",
            "2003    4.084491e+06\n",
            "2004    5.935079e+06\n",
            "2005    4.399884e+06\n",
            "2006    4.212509e+06\n",
            "2007    4.190103e+06\n",
            "2008    3.936829e+06\n",
            "2009    3.790435e+06\n",
            "2010    3.684633e+06\n",
            "2011    3.599837e+06\n",
            "2012    3.556721e+06\n",
            "2013    3.566313e+06\n",
            "2014    3.501114e+06\n",
            "2015    3.550045e+06\n",
            "2016    3.514834e+06\n",
            "2017    3.444615e+06\n",
            "2018    3.305644e+06\n",
            "2019    3.487721e+06\n",
            "Name: target, dtype: float64 Int64Index([2002, 2003, 2004, 2005, 2006, 2007, 2008, 2009, 2010, 2011, 2012,\n",
            "            2013, 2014, 2015, 2016, 2017, 2018, 2019],\n",
            "           dtype='int64', name='year')\n",
            "organization_id                                                    6.900520e+03\n",
            "StatementDetails.FinancialPeriodIsIncomplete                       7.297338e-01\n",
            "EmissionDataPoints.AccidentalSpills                                9.485480e+00\n",
            "EmissionDataPoints.AnalyticEstimatesCO2EquivalentsEmissionTotal    2.115744e+06\n",
            "EmissionDataPoints.BiodiversityImpactReduction                     1.889115e-01\n",
            "                                                                       ...     \n",
            "ResourceUseDataPoints.ToxicChemicalsReduction                      1.217295e-01\n",
            "ResourceUseDataPoints.WaterRecycled                                1.615176e+08\n",
            "ResourceUseDataPoints.WaterWithdrawalTotal                         8.541302e+08\n",
            "WorkforceDataPoints.AccidentsTotal                                 4.387821e+02\n",
            "WorkforceDataPoints.AnnouncedLayOffs                               1.704342e+03\n",
            "Name: 2020, Length: 95, dtype: float64\n"
          ]
        }
      ]
    },
    {
      "cell_type": "code",
      "source": [
        "df.isna().values.any()"
      ],
      "metadata": {
        "colab": {
          "base_uri": "https://localhost:8080/"
        },
        "id": "nFZIF5nXzF0H",
        "outputId": "a841348f-09fe-4de3-e94e-6e8d1be300fb"
      },
      "execution_count": 102,
      "outputs": [
        {
          "output_type": "execute_result",
          "data": {
            "text/plain": [
              "False"
            ]
          },
          "metadata": {},
          "execution_count": 102
        }
      ]
    },
    {
      "cell_type": "code",
      "source": [
        "target_column = ['target'] \n",
        "predictors = list(set(list(df.columns))-set(target_column))\n",
        "df[predictors] = df[predictors]/df[predictors].max()\n",
        "df.describe().transpose()"
      ],
      "metadata": {
        "colab": {
          "base_uri": "https://localhost:8080/",
          "height": 487
        },
        "id": "Cg66jQBWzJAj",
        "outputId": "8b162953-d611-45a1-e688-0fbfd90e71b2"
      },
      "execution_count": 103,
      "outputs": [
        {
          "output_type": "execute_result",
          "data": {
            "text/html": [
              "\n",
              "  <div id=\"df-f19b789c-6d49-4166-908f-3ea3b6ce0bf0\">\n",
              "    <div class=\"colab-df-container\">\n",
              "      <div>\n",
              "<style scoped>\n",
              "    .dataframe tbody tr th:only-of-type {\n",
              "        vertical-align: middle;\n",
              "    }\n",
              "\n",
              "    .dataframe tbody tr th {\n",
              "        vertical-align: top;\n",
              "    }\n",
              "\n",
              "    .dataframe thead th {\n",
              "        text-align: right;\n",
              "    }\n",
              "</style>\n",
              "<table border=\"1\" class=\"dataframe\">\n",
              "  <thead>\n",
              "    <tr style=\"text-align: right;\">\n",
              "      <th></th>\n",
              "      <th>count</th>\n",
              "      <th>mean</th>\n",
              "      <th>std</th>\n",
              "      <th>min</th>\n",
              "      <th>25%</th>\n",
              "      <th>50%</th>\n",
              "      <th>75%</th>\n",
              "      <th>max</th>\n",
              "    </tr>\n",
              "  </thead>\n",
              "  <tbody>\n",
              "    <tr>\n",
              "      <th>organization_id</th>\n",
              "      <td>18.0</td>\n",
              "      <td>0.839764</td>\n",
              "      <td>0.111578</td>\n",
              "      <td>0.689490</td>\n",
              "      <td>0.721986</td>\n",
              "      <td>0.860198</td>\n",
              "      <td>0.940502</td>\n",
              "      <td>1.0</td>\n",
              "    </tr>\n",
              "    <tr>\n",
              "      <th>StatementDetails.FinancialPeriodIsIncomplete</th>\n",
              "      <td>18.0</td>\n",
              "      <td>0.395323</td>\n",
              "      <td>0.398095</td>\n",
              "      <td>0.002356</td>\n",
              "      <td>0.013289</td>\n",
              "      <td>0.324843</td>\n",
              "      <td>0.853316</td>\n",
              "      <td>1.0</td>\n",
              "    </tr>\n",
              "    <tr>\n",
              "      <th>EmissionDataPoints.AccidentalSpills</th>\n",
              "      <td>18.0</td>\n",
              "      <td>0.785675</td>\n",
              "      <td>0.054171</td>\n",
              "      <td>0.756686</td>\n",
              "      <td>0.768040</td>\n",
              "      <td>0.774835</td>\n",
              "      <td>0.778705</td>\n",
              "      <td>1.0</td>\n",
              "    </tr>\n",
              "    <tr>\n",
              "      <th>EmissionDataPoints.AnalyticEstimatesCO2EquivalentsEmissionTotal</th>\n",
              "      <td>18.0</td>\n",
              "      <td>0.755512</td>\n",
              "      <td>0.113058</td>\n",
              "      <td>0.552632</td>\n",
              "      <td>0.704132</td>\n",
              "      <td>0.724995</td>\n",
              "      <td>0.793771</td>\n",
              "      <td>1.0</td>\n",
              "    </tr>\n",
              "    <tr>\n",
              "      <th>EmissionDataPoints.BiodiversityImpactReduction</th>\n",
              "      <td>18.0</td>\n",
              "      <td>0.759953</td>\n",
              "      <td>0.267399</td>\n",
              "      <td>0.292316</td>\n",
              "      <td>0.486326</td>\n",
              "      <td>0.894555</td>\n",
              "      <td>0.945648</td>\n",
              "      <td>1.0</td>\n",
              "    </tr>\n",
              "    <tr>\n",
              "      <th>...</th>\n",
              "      <td>...</td>\n",
              "      <td>...</td>\n",
              "      <td>...</td>\n",
              "      <td>...</td>\n",
              "      <td>...</td>\n",
              "      <td>...</td>\n",
              "      <td>...</td>\n",
              "      <td>...</td>\n",
              "    </tr>\n",
              "    <tr>\n",
              "      <th>ResourceUseDataPoints.ToxicChemicalsReduction</th>\n",
              "      <td>18.0</td>\n",
              "      <td>0.661162</td>\n",
              "      <td>0.313006</td>\n",
              "      <td>0.171505</td>\n",
              "      <td>0.288115</td>\n",
              "      <td>0.783970</td>\n",
              "      <td>0.910263</td>\n",
              "      <td>1.0</td>\n",
              "    </tr>\n",
              "    <tr>\n",
              "      <th>ResourceUseDataPoints.WaterRecycled</th>\n",
              "      <td>18.0</td>\n",
              "      <td>0.983584</td>\n",
              "      <td>0.009188</td>\n",
              "      <td>0.971399</td>\n",
              "      <td>0.975399</td>\n",
              "      <td>0.982166</td>\n",
              "      <td>0.991908</td>\n",
              "      <td>1.0</td>\n",
              "    </tr>\n",
              "    <tr>\n",
              "      <th>ResourceUseDataPoints.WaterWithdrawalTotal</th>\n",
              "      <td>18.0</td>\n",
              "      <td>0.144519</td>\n",
              "      <td>0.213557</td>\n",
              "      <td>0.084525</td>\n",
              "      <td>0.091305</td>\n",
              "      <td>0.095950</td>\n",
              "      <td>0.098061</td>\n",
              "      <td>1.0</td>\n",
              "    </tr>\n",
              "    <tr>\n",
              "      <th>WorkforceDataPoints.AccidentsTotal</th>\n",
              "      <td>18.0</td>\n",
              "      <td>0.941393</td>\n",
              "      <td>0.036856</td>\n",
              "      <td>0.861205</td>\n",
              "      <td>0.924107</td>\n",
              "      <td>0.944022</td>\n",
              "      <td>0.960445</td>\n",
              "      <td>1.0</td>\n",
              "    </tr>\n",
              "    <tr>\n",
              "      <th>WorkforceDataPoints.AnnouncedLayOffs</th>\n",
              "      <td>18.0</td>\n",
              "      <td>0.957473</td>\n",
              "      <td>0.017467</td>\n",
              "      <td>0.937322</td>\n",
              "      <td>0.946205</td>\n",
              "      <td>0.949840</td>\n",
              "      <td>0.965643</td>\n",
              "      <td>1.0</td>\n",
              "    </tr>\n",
              "  </tbody>\n",
              "</table>\n",
              "<p>95 rows × 8 columns</p>\n",
              "</div>\n",
              "      <button class=\"colab-df-convert\" onclick=\"convertToInteractive('df-f19b789c-6d49-4166-908f-3ea3b6ce0bf0')\"\n",
              "              title=\"Convert this dataframe to an interactive table.\"\n",
              "              style=\"display:none;\">\n",
              "        \n",
              "  <svg xmlns=\"http://www.w3.org/2000/svg\" height=\"24px\"viewBox=\"0 0 24 24\"\n",
              "       width=\"24px\">\n",
              "    <path d=\"M0 0h24v24H0V0z\" fill=\"none\"/>\n",
              "    <path d=\"M18.56 5.44l.94 2.06.94-2.06 2.06-.94-2.06-.94-.94-2.06-.94 2.06-2.06.94zm-11 1L8.5 8.5l.94-2.06 2.06-.94-2.06-.94L8.5 2.5l-.94 2.06-2.06.94zm10 10l.94 2.06.94-2.06 2.06-.94-2.06-.94-.94-2.06-.94 2.06-2.06.94z\"/><path d=\"M17.41 7.96l-1.37-1.37c-.4-.4-.92-.59-1.43-.59-.52 0-1.04.2-1.43.59L10.3 9.45l-7.72 7.72c-.78.78-.78 2.05 0 2.83L4 21.41c.39.39.9.59 1.41.59.51 0 1.02-.2 1.41-.59l7.78-7.78 2.81-2.81c.8-.78.8-2.07 0-2.86zM5.41 20L4 18.59l7.72-7.72 1.47 1.35L5.41 20z\"/>\n",
              "  </svg>\n",
              "      </button>\n",
              "      \n",
              "  <style>\n",
              "    .colab-df-container {\n",
              "      display:flex;\n",
              "      flex-wrap:wrap;\n",
              "      gap: 12px;\n",
              "    }\n",
              "\n",
              "    .colab-df-convert {\n",
              "      background-color: #E8F0FE;\n",
              "      border: none;\n",
              "      border-radius: 50%;\n",
              "      cursor: pointer;\n",
              "      display: none;\n",
              "      fill: #1967D2;\n",
              "      height: 32px;\n",
              "      padding: 0 0 0 0;\n",
              "      width: 32px;\n",
              "    }\n",
              "\n",
              "    .colab-df-convert:hover {\n",
              "      background-color: #E2EBFA;\n",
              "      box-shadow: 0px 1px 2px rgba(60, 64, 67, 0.3), 0px 1px 3px 1px rgba(60, 64, 67, 0.15);\n",
              "      fill: #174EA6;\n",
              "    }\n",
              "\n",
              "    [theme=dark] .colab-df-convert {\n",
              "      background-color: #3B4455;\n",
              "      fill: #D2E3FC;\n",
              "    }\n",
              "\n",
              "    [theme=dark] .colab-df-convert:hover {\n",
              "      background-color: #434B5C;\n",
              "      box-shadow: 0px 1px 3px 1px rgba(0, 0, 0, 0.15);\n",
              "      filter: drop-shadow(0px 1px 2px rgba(0, 0, 0, 0.3));\n",
              "      fill: #FFFFFF;\n",
              "    }\n",
              "  </style>\n",
              "\n",
              "      <script>\n",
              "        const buttonEl =\n",
              "          document.querySelector('#df-f19b789c-6d49-4166-908f-3ea3b6ce0bf0 button.colab-df-convert');\n",
              "        buttonEl.style.display =\n",
              "          google.colab.kernel.accessAllowed ? 'block' : 'none';\n",
              "\n",
              "        async function convertToInteractive(key) {\n",
              "          const element = document.querySelector('#df-f19b789c-6d49-4166-908f-3ea3b6ce0bf0');\n",
              "          const dataTable =\n",
              "            await google.colab.kernel.invokeFunction('convertToInteractive',\n",
              "                                                     [key], {});\n",
              "          if (!dataTable) return;\n",
              "\n",
              "          const docLinkHtml = 'Like what you see? Visit the ' +\n",
              "            '<a target=\"_blank\" href=https://colab.research.google.com/notebooks/data_table.ipynb>data table notebook</a>'\n",
              "            + ' to learn more about interactive tables.';\n",
              "          element.innerHTML = '';\n",
              "          dataTable['output_type'] = 'display_data';\n",
              "          await google.colab.output.renderOutput(dataTable, element);\n",
              "          const docLink = document.createElement('div');\n",
              "          docLink.innerHTML = docLinkHtml;\n",
              "          element.appendChild(docLink);\n",
              "        }\n",
              "      </script>\n",
              "    </div>\n",
              "  </div>\n",
              "  "
            ],
            "text/plain": [
              "                                                    count  ...  max\n",
              "organization_id                                      18.0  ...  1.0\n",
              "StatementDetails.FinancialPeriodIsIncomplete         18.0  ...  1.0\n",
              "EmissionDataPoints.AccidentalSpills                  18.0  ...  1.0\n",
              "EmissionDataPoints.AnalyticEstimatesCO2Equivale...   18.0  ...  1.0\n",
              "EmissionDataPoints.BiodiversityImpactReduction       18.0  ...  1.0\n",
              "...                                                   ...  ...  ...\n",
              "ResourceUseDataPoints.ToxicChemicalsReduction        18.0  ...  1.0\n",
              "ResourceUseDataPoints.WaterRecycled                  18.0  ...  1.0\n",
              "ResourceUseDataPoints.WaterWithdrawalTotal           18.0  ...  1.0\n",
              "WorkforceDataPoints.AccidentsTotal                   18.0  ...  1.0\n",
              "WorkforceDataPoints.AnnouncedLayOffs                 18.0  ...  1.0\n",
              "\n",
              "[95 rows x 8 columns]"
            ]
          },
          "metadata": {},
          "execution_count": 103
        }
      ]
    },
    {
      "cell_type": "code",
      "source": [
        "X = df[predictors].values\n",
        "y = df[target_column].values\n",
        "\n",
        "X_train, X_test, y_train, y_test = train_test_split(X, y, test_size=0.10, random_state=40)\n",
        "X_train, X_val, y_train, y_val = train_test_split(X_train, y_train, test_size = 0.10, random_state=40)\n",
        "print(X_train.shape); print(X_test.shape)"
      ],
      "metadata": {
        "colab": {
          "base_uri": "https://localhost:8080/"
        },
        "id": "OzBqboVDzPjG",
        "outputId": "cc7a4784-ccd0-46b8-b815-6ea9563fda25"
      },
      "execution_count": 104,
      "outputs": [
        {
          "output_type": "stream",
          "name": "stdout",
          "text": [
            "(14, 94)\n",
            "(2, 94)\n"
          ]
        }
      ]
    },
    {
      "cell_type": "code",
      "source": [
        "print(y_train.shape)"
      ],
      "metadata": {
        "colab": {
          "base_uri": "https://localhost:8080/"
        },
        "id": "AHGnN5ntzS8g",
        "outputId": "688747c0-d1df-4d13-dc05-1d3c03143480"
      },
      "execution_count": 105,
      "outputs": [
        {
          "output_type": "stream",
          "name": "stdout",
          "text": [
            "(14, 1)\n"
          ]
        }
      ]
    },
    {
      "cell_type": "code",
      "source": [
        "np.max(X_train)"
      ],
      "metadata": {
        "colab": {
          "base_uri": "https://localhost:8080/"
        },
        "id": "Nf2imFHtzVpk",
        "outputId": "619c02b9-1572-43db-862b-41f99a25cc56"
      },
      "execution_count": 106,
      "outputs": [
        {
          "output_type": "execute_result",
          "data": {
            "text/plain": [
              "1.0"
            ]
          },
          "metadata": {},
          "execution_count": 106
        }
      ]
    },
    {
      "cell_type": "code",
      "source": [
        "from sklearn.neural_network import MLPRegressor\n",
        "\n",
        "mlp = MLPRegressor(hidden_layer_sizes=(8,8,6,6,2), activation='relu', solver='adam', max_iter=500)\n",
        "print(y_train.shape)\n",
        "mlp.fit(X_train, y_train.ravel())\n",
        "\n",
        "\n",
        "# FEEDBACK, use train, val, test, not just train test\n",
        "mlp.predict(X_test)"
      ],
      "metadata": {
        "colab": {
          "base_uri": "https://localhost:8080/"
        },
        "id": "h4Hk_4jNzYBr",
        "outputId": "ebf55264-34c8-485a-9eed-bc0406c34ce5"
      },
      "execution_count": 107,
      "outputs": [
        {
          "output_type": "stream",
          "name": "stdout",
          "text": [
            "(14, 1)\n"
          ]
        },
        {
          "output_type": "stream",
          "name": "stderr",
          "text": [
            "/usr/local/lib/python3.7/dist-packages/sklearn/neural_network/_multilayer_perceptron.py:696: ConvergenceWarning: Stochastic Optimizer: Maximum iterations (500) reached and the optimization hasn't converged yet.\n",
            "  ConvergenceWarning,\n"
          ]
        },
        {
          "output_type": "execute_result",
          "data": {
            "text/plain": [
              "array([26235.74953927, 21128.15425616])"
            ]
          },
          "metadata": {},
          "execution_count": 107
        }
      ]
    },
    {
      "cell_type": "code",
      "source": [
        "# FEEDBACK, for regression problem, use regression metrics e.g. Mean squared error\n",
        "mlp.score(X_test, y_test)"
      ],
      "metadata": {
        "colab": {
          "base_uri": "https://localhost:8080/"
        },
        "id": "HMktWZ6Aze8p",
        "outputId": "8fbfd286-a2fc-491e-894b-a84fc652da1d"
      },
      "execution_count": 108,
      "outputs": [
        {
          "output_type": "execute_result",
          "data": {
            "text/plain": [
              "-69.54208061518567"
            ]
          },
          "metadata": {},
          "execution_count": 108
        }
      ]
    },
    {
      "cell_type": "code",
      "source": [
        "mlp.score(X_val, y_val)"
      ],
      "metadata": {
        "colab": {
          "base_uri": "https://localhost:8080/"
        },
        "id": "r9_-MnTTGHrD",
        "outputId": "bb998fed-cafc-43a7-e6b5-985ed58839ff"
      },
      "execution_count": 109,
      "outputs": [
        {
          "output_type": "execute_result",
          "data": {
            "text/plain": [
              "-152.5726075652101"
            ]
          },
          "metadata": {},
          "execution_count": 109
        }
      ]
    },
    {
      "cell_type": "code",
      "source": [
        "from sklearn.ensemble import RandomForestRegressor\n",
        "rfr = RandomForestRegressor(n_estimators = 500, random_state = 0)\n",
        "rfr.fit(X_train, y_train.ravel())\n",
        "rfr.predict(X_test)"
      ],
      "metadata": {
        "colab": {
          "base_uri": "https://localhost:8080/"
        },
        "id": "iT0i-4WPzi9N",
        "outputId": "49908382-8bfd-46a9-abb8-9351ffecb89f"
      },
      "execution_count": 110,
      "outputs": [
        {
          "output_type": "execute_result",
          "data": {
            "text/plain": [
              "array([3482511.57537959, 4377901.20011458])"
            ]
          },
          "metadata": {},
          "execution_count": 110
        }
      ]
    },
    {
      "cell_type": "code",
      "source": [
        "rfr.score(X_test, y_test)\n"
      ],
      "metadata": {
        "colab": {
          "base_uri": "https://localhost:8080/"
        },
        "id": "LqTILtQBzkEl",
        "outputId": "b9c0eac9-33ef-4b4e-dabe-18981790b7a8"
      },
      "execution_count": 111,
      "outputs": [
        {
          "output_type": "execute_result",
          "data": {
            "text/plain": [
              "0.9934226702420922"
            ]
          },
          "metadata": {},
          "execution_count": 111
        }
      ]
    },
    {
      "cell_type": "code",
      "source": [
        "rfr.score(X_val, y_val)"
      ],
      "metadata": {
        "colab": {
          "base_uri": "https://localhost:8080/"
        },
        "id": "f-pRi-JLGE6b",
        "outputId": "0b2634a0-8ff7-4628-c2a4-26942caebf4f"
      },
      "execution_count": 112,
      "outputs": [
        {
          "output_type": "execute_result",
          "data": {
            "text/plain": [
              "0.8118629222413065"
            ]
          },
          "metadata": {},
          "execution_count": 112
        }
      ]
    },
    {
      "cell_type": "code",
      "source": [
        "df_old = df.drop(labels = 'target', axis=1)\n",
        "print(rfr.predict(np.array(df_old.iloc[-1]).reshape(1,-1)))"
      ],
      "metadata": {
        "colab": {
          "base_uri": "https://localhost:8080/"
        },
        "id": "I5pTgrQ8Epsw",
        "outputId": "b580b325-ff4c-459c-e3e7-a5b6c7ebe173"
      },
      "execution_count": 113,
      "outputs": [
        {
          "output_type": "stream",
          "name": "stdout",
          "text": [
            "[4099038.8705843]\n"
          ]
        }
      ]
    },
    {
      "cell_type": "code",
      "source": [
        "print(mlp.predict(np.array(df_old.iloc[-1]).reshape(1,-1)))"
      ],
      "metadata": {
        "colab": {
          "base_uri": "https://localhost:8080/"
        },
        "id": "oeQUHA7RGTEN",
        "outputId": "5ce438bd-f558-4a21-bed8-67c22f743ad8"
      },
      "execution_count": 114,
      "outputs": [
        {
          "output_type": "stream",
          "name": "stdout",
          "text": [
            "[26365.75418259]\n"
          ]
        }
      ]
    }
  ]
}